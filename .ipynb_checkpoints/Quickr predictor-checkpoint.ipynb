{
 "cells": [
  {
   "cell_type": "code",
   "execution_count": 3,
   "id": "d633a64d",
   "metadata": {},
   "outputs": [],
   "source": [
    "import pandas as pd\n",
    "import numpy as np"
   ]
  },
  {
   "cell_type": "code",
   "execution_count": 4,
   "id": "e09336d5",
   "metadata": {},
   "outputs": [
    {
     "data": {
      "text/html": [
       "<div>\n",
       "<style scoped>\n",
       "    .dataframe tbody tr th:only-of-type {\n",
       "        vertical-align: middle;\n",
       "    }\n",
       "\n",
       "    .dataframe tbody tr th {\n",
       "        vertical-align: top;\n",
       "    }\n",
       "\n",
       "    .dataframe thead th {\n",
       "        text-align: right;\n",
       "    }\n",
       "</style>\n",
       "<table border=\"1\" class=\"dataframe\">\n",
       "  <thead>\n",
       "    <tr style=\"text-align: right;\">\n",
       "      <th></th>\n",
       "      <th>Unnamed: 0</th>\n",
       "      <th>Name</th>\n",
       "      <th>Label</th>\n",
       "      <th>Location</th>\n",
       "      <th>Price</th>\n",
       "      <th>Kms_driven</th>\n",
       "      <th>Fuel_type</th>\n",
       "      <th>Owner</th>\n",
       "      <th>Year</th>\n",
       "      <th>Company</th>\n",
       "    </tr>\n",
       "  </thead>\n",
       "  <tbody>\n",
       "    <tr>\n",
       "      <th>0</th>\n",
       "      <td>0</td>\n",
       "      <td>Ford Figo Duratec Petrol EXI 1.2 - 2015</td>\n",
       "      <td>PLATINUM</td>\n",
       "      <td>Bangalore</td>\n",
       "      <td>₹3,80,000</td>\n",
       "      <td>35,056 kms</td>\n",
       "      <td>Petrol</td>\n",
       "      <td>NaN</td>\n",
       "      <td>2015</td>\n",
       "      <td>Ford</td>\n",
       "    </tr>\n",
       "    <tr>\n",
       "      <th>1</th>\n",
       "      <td>1</td>\n",
       "      <td>Maruti Suzuki Wagon R VXI BS IV - 2016</td>\n",
       "      <td>PLATINUM</td>\n",
       "      <td>Bangalore</td>\n",
       "      <td>₹4,65,000</td>\n",
       "      <td>44,000 kms</td>\n",
       "      <td>Petrol</td>\n",
       "      <td>NaN</td>\n",
       "      <td>2016</td>\n",
       "      <td>Maruti</td>\n",
       "    </tr>\n",
       "    <tr>\n",
       "      <th>2</th>\n",
       "      <td>2</td>\n",
       "      <td>Hyundai Creta 1.6 SX PLUS AUTO PETROL - 2018</td>\n",
       "      <td>PLATINUM</td>\n",
       "      <td>Bangalore</td>\n",
       "      <td>₹13,50,000</td>\n",
       "      <td>42,917 kms</td>\n",
       "      <td>Petrol</td>\n",
       "      <td>NaN</td>\n",
       "      <td>2018</td>\n",
       "      <td>Hyundai</td>\n",
       "    </tr>\n",
       "    <tr>\n",
       "      <th>3</th>\n",
       "      <td>3</td>\n",
       "      <td>Hyundai Venue - 2019</td>\n",
       "      <td>PLATINUM</td>\n",
       "      <td>Chennai</td>\n",
       "      <td>₹10,19,699</td>\n",
       "      <td>16,112 kms</td>\n",
       "      <td>Petrol</td>\n",
       "      <td>2nd Owner</td>\n",
       "      <td>2019</td>\n",
       "      <td>Hyundai</td>\n",
       "    </tr>\n",
       "    <tr>\n",
       "      <th>4</th>\n",
       "      <td>4</td>\n",
       "      <td>Honda Jazz - 2017</td>\n",
       "      <td>PLATINUM</td>\n",
       "      <td>Pune</td>\n",
       "      <td>₹7,13,499</td>\n",
       "      <td>30,988 kms</td>\n",
       "      <td>Petrol</td>\n",
       "      <td>2nd Owner</td>\n",
       "      <td>2017</td>\n",
       "      <td>Honda</td>\n",
       "    </tr>\n",
       "  </tbody>\n",
       "</table>\n",
       "</div>"
      ],
      "text/plain": [
       "   Unnamed: 0                                          Name     Label  \\\n",
       "0           0       Ford Figo Duratec Petrol EXI 1.2 - 2015  PLATINUM   \n",
       "1           1        Maruti Suzuki Wagon R VXI BS IV - 2016  PLATINUM   \n",
       "2           2  Hyundai Creta 1.6 SX PLUS AUTO PETROL - 2018  PLATINUM   \n",
       "3           3                          Hyundai Venue - 2019  PLATINUM   \n",
       "4           4                             Honda Jazz - 2017  PLATINUM   \n",
       "\n",
       "    Location       Price   Kms_driven Fuel_type       Owner  Year  Company  \n",
       "0  Bangalore   ₹3,80,000  35,056 kms     Petrol         NaN  2015     Ford  \n",
       "1  Bangalore   ₹4,65,000  44,000 kms     Petrol         NaN  2016   Maruti  \n",
       "2  Bangalore  ₹13,50,000  42,917 kms     Petrol         NaN  2018  Hyundai  \n",
       "3    Chennai  ₹10,19,699  16,112 kms    Petrol    2nd Owner  2019  Hyundai  \n",
       "4       Pune   ₹7,13,499  30,988 kms    Petrol    2nd Owner  2017    Honda  "
      ]
     },
     "execution_count": 4,
     "metadata": {},
     "output_type": "execute_result"
    }
   ],
   "source": [
    "car=pd.read_csv('Quikr_car.csv')\n",
    "car.head()"
   ]
  },
  {
   "cell_type": "code",
   "execution_count": 5,
   "id": "bd479559",
   "metadata": {},
   "outputs": [
    {
     "data": {
      "text/plain": [
       "(1032, 10)"
      ]
     },
     "execution_count": 5,
     "metadata": {},
     "output_type": "execute_result"
    }
   ],
   "source": [
    "car.shape"
   ]
  },
  {
   "cell_type": "code",
   "execution_count": 6,
   "id": "a20ba00a",
   "metadata": {},
   "outputs": [
    {
     "name": "stdout",
     "output_type": "stream",
     "text": [
      "<class 'pandas.core.frame.DataFrame'>\n",
      "RangeIndex: 1032 entries, 0 to 1031\n",
      "Data columns (total 10 columns):\n",
      " #   Column      Non-Null Count  Dtype \n",
      "---  ------      --------------  ----- \n",
      " 0   Unnamed: 0  1032 non-null   int64 \n",
      " 1   Name        1032 non-null   object\n",
      " 2   Label       1032 non-null   object\n",
      " 3   Location    1030 non-null   object\n",
      " 4   Price       1032 non-null   object\n",
      " 5   Kms_driven  1032 non-null   object\n",
      " 6   Fuel_type   1032 non-null   object\n",
      " 7   Owner       740 non-null    object\n",
      " 8   Year        1032 non-null   int64 \n",
      " 9   Company     1032 non-null   object\n",
      "dtypes: int64(2), object(8)\n",
      "memory usage: 80.8+ KB\n"
     ]
    }
   ],
   "source": [
    "car.info()"
   ]
  },
  {
   "cell_type": "code",
   "execution_count": 7,
   "id": "2ef751c6",
   "metadata": {},
   "outputs": [
    {
     "data": {
      "text/plain": [
       "array([2015, 2016, 2018, 2019, 2017, 2013, 2012, 2020, 2014, 2011, 2021,\n",
       "       2010, 2001, 2022, 2000, 2008, 2005, 2007, 2006, 2004, 2002, 2009,\n",
       "       2003], dtype=int64)"
      ]
     },
     "execution_count": 7,
     "metadata": {},
     "output_type": "execute_result"
    }
   ],
   "source": [
    "car['Year'].unique()"
   ]
  },
  {
   "cell_type": "code",
   "execution_count": 8,
   "id": "926ef99f",
   "metadata": {},
   "outputs": [
    {
     "data": {
      "text/plain": [
       "array(['₹3,80,000', '₹4,65,000', '₹13,50,000', '₹10,19,699', '₹7,13,499',\n",
       "       '₹3,91,099', '₹4,74,299', '₹12,52,999', '₹3,93,699', '₹7,30,899',\n",
       "       '₹3,43,099', '₹7,07,599', '₹6,88,899', '₹14,21,599', '₹3,99,999',\n",
       "       '₹14,73,299', '₹10,25,000', '₹7,35,000', '₹6,00,000', '₹8,00,000',\n",
       "       '₹7,00,000', '₹8,20,000', '₹1,95,000', '₹18,50,000', '₹8,07,499',\n",
       "       '₹5,22,999', '₹7,40,899', '₹11,41,999', '₹9,71,299', '₹6,40,999',\n",
       "       '₹6,76,199', '₹5,62,399', '₹5,80,899', '₹7,70,999', '₹5,31,399',\n",
       "       '₹3,67,299', '₹4,12,199', '₹14,60,099', '₹6,18,699', '₹4,85,000',\n",
       "       '₹8,90,000', '₹2,45,000', '₹9,45,000', '₹5,90,000', '₹4,95,000',\n",
       "       '₹4,75,000', '₹12,00,000', '₹4,90,199', '₹9,20,999', '₹5,54,399',\n",
       "       '₹4,08,999', '₹12,48,299', '₹6,36,099', '₹4,52,699', '₹7,04,399',\n",
       "       '₹5,53,599', '₹9,99,599', '₹6,84,699', '₹6,20,399', '₹5,49,899',\n",
       "       '₹8,12,899', '₹6,56,699', '₹7,25,000', '₹37,00,000', '₹3,65,000',\n",
       "       '₹2,80,000', '₹8,40,000', '₹8,18,599', '₹8,62,399', '₹6,73,599',\n",
       "       '₹5,28,899', '₹5,27,999', '₹7,91,699', '₹3,92,999', '₹6,90,199',\n",
       "       '₹4,74,699', '₹20,19,899', '₹5,62,299', '₹14,00,999', '₹4,47,599',\n",
       "       '₹18,14,599', '₹9,20,399', '₹3,90,000', '₹6,50,000', '₹5,75,000',\n",
       "       '₹5,25,000', '₹10,00,000', '₹3,25,000', '₹30,00,000', '₹3,43,299',\n",
       "       '₹17,11,499', '₹9,18,799', '₹5,26,399', '₹8,81,099', '₹17,64,199',\n",
       "       '₹6,39,199', '₹19,17,599', '₹4,66,599', '₹13,97,699', '₹5,04,399',\n",
       "       '₹19,20,399', '₹9,17,599', '₹3,19,099', '₹4,84,399', '₹2,90,000',\n",
       "       '₹17,90,000', '₹73,000', '₹22,00,000', '₹15,50,000', '₹4,20,000',\n",
       "       '₹15,95,000', '₹5,73,499', '₹8,79,199', '₹7,33,399', '₹9,67,599',\n",
       "       '₹15,39,299', '₹5,61,499', '₹10,42,699', '₹10,32,099', '₹9,03,499',\n",
       "       '₹4,72,499', '₹7,71,299', '₹4,47,099', '₹5,04,599', '₹6,20,999',\n",
       "       '₹4,33,999', '₹6,27,499', '₹3,60,000', '₹13,75,000', '₹69,000',\n",
       "       '₹89,000', '₹44,25,000', '₹44,50,000', '₹7,04,199', '₹5,13,099',\n",
       "       '₹4,69,399', '₹8,44,199', '₹5,44,799', '₹7,10,899', '₹5,80,599',\n",
       "       '₹6,38,499', '₹6,54,699', '₹8,94,199', '₹8,58,599', '₹9,92,199',\n",
       "       '₹7,14,999', '₹7,65,599', '₹18,00,299', '₹11,90,000', '₹14,52,000',\n",
       "       '₹10,26,000', '₹8,21,000', '₹3,36,000', '₹2,00,000', '₹6,80,699',\n",
       "       '₹7,14,899', '₹3,16,799', '₹6,75,099', '₹10,57,399', '₹9,38,099',\n",
       "       '₹10,57,699', '₹6,10,099', '₹4,52,199', '₹7,12,699', '₹8,38,699',\n",
       "       '₹6,66,899', '₹16,81,899', '₹18,54,599', '₹5,71,499', '₹5,89,199',\n",
       "       '₹23,50,000', '₹36,50,000', '₹4,45,000', '₹12,31,000', '₹3,20,000',\n",
       "       '₹11,75,000', '₹3,51,699', '₹2,99,199', '₹6,57,199', '₹5,39,299',\n",
       "       '₹6,08,399', '₹10,42,799', '₹6,45,199', '₹8,11,899', '₹5,57,799',\n",
       "       '₹8,73,999', '₹2,78,299', '₹9,86,399', '₹17,49,899', '₹4,43,899',\n",
       "       '₹9,36,299', '₹8,50,000', '₹5,95,000', '₹1,75,000', '₹9,30,000',\n",
       "       '₹15,00,000', '₹1,59,000', '₹4,04,499', '₹4,46,499', '₹10,47,499',\n",
       "       '₹3,45,599', '₹7,84,399', '₹4,89,399', '₹2,88,399', '₹5,73,999',\n",
       "       '₹13,73,699', '₹2,79,799', '₹6,58,199', '₹4,65,499', '₹5,63,999',\n",
       "       '₹59,000', '₹1,19,000', '₹1,29,000', '₹29,31,000', '₹7,90,000',\n",
       "       '₹7,18,699', '₹5,43,399', '₹17,80,399', '₹7,57,999', '₹10,13,999',\n",
       "       '₹4,39,999', '₹8,39,199', '₹4,21,799', '₹9,86,799', '₹20,57,399',\n",
       "       '₹10,82,299', '₹5,76,999', '₹5,33,199', '₹4,73,299', '₹18,38,399',\n",
       "       '₹1,99,000', '₹17,50,000', 'Ask For Price', '₹18,90,000',\n",
       "       '₹21,50,000', '₹6,99,000', '₹4,51,799', '₹4,46,999', '₹4,70,799',\n",
       "       '₹5,11,799', '₹3,99,899', '₹3,75,999', '₹6,64,799', '₹6,17,799',\n",
       "       '₹7,49,299', '₹7,95,799', '₹5,43,499', '₹3,17,199', '₹3,73,699',\n",
       "       '₹5,01,799', '₹18,04,399', '₹1,70,000', '₹65,000', '₹2,99,000',\n",
       "       '₹1,76,000', '₹9,85,299', '₹6,42,899', '₹7,40,000', '₹6,10,000',\n",
       "       '₹5,10,000', '₹5,60,000', '₹4,55,000', '₹3,50,000', '₹4,63,099',\n",
       "       '₹3,50,599', '₹6,36,299', '₹6,98,199', '₹7,64,199', '₹5,24,799',\n",
       "       '₹18,31,000', '₹2,10,000', '₹22,50,000', '₹10,90,000', '₹3,75,000',\n",
       "       '₹2,25,000', '₹4,93,899', '₹8,25,299', '₹4,95,499', '₹2,77,599',\n",
       "       '₹4,73,899', '₹8,55,299', '₹5,40,299', '₹4,42,299', '₹7,25,399',\n",
       "       '₹5,58,299', '₹3,54,299', '₹5,25,099', '₹6,75,000', '₹6,45,000',\n",
       "       '₹7,85,000', '₹6,90,000', '₹4,25,000', '₹5,29,699', '₹10,81,899',\n",
       "       '₹2,56,000', '₹12,44,799', '₹4,74,399', '₹3,89,399', '₹4,46,699',\n",
       "       '₹9,18,999', '₹8,15,799', '₹8,96,799', '₹4,11,399', '₹4,98,999',\n",
       "       '₹4,70,000', '₹9,25,000', '₹3,00,000', '₹4,50,000', '₹3,57,999',\n",
       "       '₹4,62,599', '₹6,95,199', '₹4,90,399', '₹3,40,099', '₹9,97,899',\n",
       "       '₹3,51,599', '₹6,03,799', '₹5,99,799', '₹4,56,099', '₹9,93,699',\n",
       "       '₹3,12,299', '₹12,21,799', '₹3,23,399', '₹5,10,799', '₹7,50,000',\n",
       "       '₹1,55,000', '₹4,10,000', '₹2,75,000', '₹1,45,000', '₹1,65,000',\n",
       "       '₹9,10,799', '₹7,22,899', '₹8,09,499', '₹2,97,399', '₹4,11,999',\n",
       "       '₹6,23,399', '₹3,72,399', '₹5,18,099', '₹4,85,599', '₹6,36,899',\n",
       "       '₹3,96,999', '₹9,80,399', '₹6,58,999', '₹3,04,099', '₹3,62,599',\n",
       "       '₹3,44,199', '₹2,15,000', '₹5,50,000', '₹79,000', '₹67,000',\n",
       "       '₹4,62,399', '₹3,19,999', '₹2,75,699', '₹5,01,599', '₹5,06,599',\n",
       "       '₹11,98,599', '₹7,75,499', '₹3,38,999', '₹6,52,699', '₹5,35,899',\n",
       "       '₹4,92,099', '₹8,85,999', '₹6,94,899', '₹4,50,599', '₹3,77,999',\n",
       "       '₹4,91,499', '₹18,65,000', '₹2,35,000', '₹15,75,000', '₹6,95,000',\n",
       "       '₹2,95,000', '₹11,71,199', '₹6,25,699', '₹4,53,199', '₹8,50,499',\n",
       "       '₹5,48,699', '₹4,98,799', '₹13,77,199', '₹7,72,799', '₹5,72,599',\n",
       "       '₹7,74,899', '₹8,85,099', '₹6,87,499', '₹5,67,799', '₹3,98,499',\n",
       "       '₹3,48,499', '₹5,20,899', '₹2,40,000', '₹5,00,000', '₹2,50,000',\n",
       "       '₹9,75,000', '₹9,16,799', '₹4,80,999', '₹10,43,299', '₹7,87,399',\n",
       "       '₹3,62,999', '₹4,03,199', '₹10,22,599', '₹4,83,199', '₹3,21,399',\n",
       "       '₹3,07,999', '₹4,78,599', '₹4,05,199', '₹3,14,999', '₹6,84,599',\n",
       "       '₹4,13,099', '₹3,45,000', '₹3,85,000', '₹8,25,000', '₹14,25,000',\n",
       "       '₹5,01,199', '₹3,57,399', '₹4,94,199', '₹4,24,099', '₹5,98,299',\n",
       "       '₹4,77,599', '₹7,03,999', '₹4,16,099', '₹5,59,099', '₹5,27,099',\n",
       "       '₹15,17,999', '₹4,31,099', '₹5,39,799', '₹5,65,000', '₹4,35,000',\n",
       "       '₹6,16,599', '₹16,56,999', '₹5,62,999', '₹4,88,899', '₹5,14,599',\n",
       "       '₹4,95,299', '₹7,52,399', '₹4,74,799', '₹8,49,599', '₹6,63,199',\n",
       "       '₹5,66,699', '₹4,71,199', '₹3,85,499', '₹4,91,599', '₹7,25,699',\n",
       "       '₹4,60,000', '₹9,90,000', '₹1,90,000', '₹6,25,000', '₹6,40,099',\n",
       "       '₹5,75,099', '₹7,26,399', '₹4,80,399', '₹3,69,599', '₹4,51,399',\n",
       "       '₹4,94,099', '₹12,40,899', '₹2,86,199', '₹5,09,399', '₹3,78,099',\n",
       "       '₹5,86,699', '₹9,06,899', '₹8,82,199', '₹5,07,999', '₹8,45,000',\n",
       "       '₹13,25,000', '₹12,45,000', '₹7,82,999', '₹3,97,099', '₹3,92,099',\n",
       "       '₹3,54,599', '₹7,19,599', '₹8,34,099', '₹3,65,899', '₹4,00,899',\n",
       "       '₹3,20,199', '₹4,57,399', '₹7,17,699', '₹4,17,299', '₹3,23,199',\n",
       "       '₹6,33,999', '₹7,95,000', '₹3,95,000', '₹3,30,000', '₹8,75,999',\n",
       "       '₹3,09,399', '₹5,14,099', '₹6,72,899', '₹6,20,099', '₹7,33,999',\n",
       "       '₹6,64,699', '₹4,54,299', '₹3,57,499', '₹4,22,299', '₹4,49,699',\n",
       "       '₹4,93,499', '₹6,05,699', '₹7,55,099', '₹4,90,000', '₹1,60,000',\n",
       "       '₹11,50,000', '₹3,49,000', '₹14,01,000', '₹4,32,699', '₹4,18,599',\n",
       "       '₹2,75,799', '₹4,56,199', '₹7,28,499', '₹4,31,599', '₹5,33,099',\n",
       "       '₹8,40,699', '₹4,86,499', '₹4,50,199', '₹4,18,999', '₹6,21,299',\n",
       "       '₹5,08,399', '₹3,90,999', '₹36,00,000', '₹15,01,000', '₹11,00,000',\n",
       "       '₹1,30,000', '₹4,64,199', '₹3,43,999', '₹4,41,499', '₹6,84,999',\n",
       "       '₹8,15,399', '₹4,68,999', '₹11,94,799', '₹5,99,899', '₹7,10,199',\n",
       "       '₹7,01,399', '₹8,34,599', '₹3,33,699', '₹3,49,799', '₹3,86,699',\n",
       "       '₹10,50,000', '₹13,00,000', '₹6,59,199', '₹5,57,199', '₹4,26,199',\n",
       "       '₹4,32,999', '₹4,58,399', '₹14,65,199', '₹7,83,099', '₹5,29,199',\n",
       "       '₹4,47,199', '₹9,44,099', '₹4,52,099', '₹1,79,000', '₹7,75,000',\n",
       "       '₹3,50,888', '₹2,23,299', '₹6,00,399', '₹3,67,399', '₹7,04,099',\n",
       "       '₹3,77,899', '₹4,58,699', '₹5,66,199', '₹5,94,599', '₹6,78,699',\n",
       "       '₹8,83,099', '₹5,78,099', '₹3,05,899', '₹9,90,888', '₹4,80,000',\n",
       "       '₹8,41,499', '₹10,16,899', '₹7,48,599', '₹6,22,099', '₹5,30,699',\n",
       "       '₹4,71,899', '₹5,05,399', '₹4,60,299', '₹6,83,999', '₹6,39,699',\n",
       "       '₹5,10,499', '₹11,85,499', '₹5,79,899', '₹3,75,888', '₹7,78,888',\n",
       "       '₹75,00,000', '₹5,82,899', '₹4,14,099', '₹5,16,599', '₹3,66,299',\n",
       "       '₹3,75,899', '₹3,11,399', '₹5,01,999', '₹4,09,399', '₹17,37,899',\n",
       "       '₹5,83,999', '₹6,54,299', '₹9,86,699', '₹4,14,199', '₹5,88,099',\n",
       "       '₹8,75,000', '₹5,67,399', '₹8,05,099', '₹4,92,199', '₹4,95,799',\n",
       "       '₹11,13,599', '₹2,99,999', '₹5,92,099', '₹3,22,299', '₹4,81,999',\n",
       "       '₹5,34,599', '₹4,29,599', '₹7,23,799', '₹5,63,299', '₹2,14,199',\n",
       "       '₹3,19,399', '₹1,80,000', '₹4,15,000', '₹4,30,000', '₹8,80,000',\n",
       "       '₹8,10,399', '₹7,88,999', '₹5,08,799', '₹4,57,099', '₹6,12,899',\n",
       "       '₹6,84,099', '₹7,16,699', '₹5,09,699', '₹3,37,799', '₹8,52,399',\n",
       "       '₹17,84,699', '₹7,78,199', '₹7,05,099', '₹5,57,599', '₹15,18,099',\n",
       "       '₹19,80,000', '₹10,59,000', '₹1,85,000', '₹7,10,000', '₹19,48,888',\n",
       "       '₹22,72,499', '₹6,26,199', '₹2,36,099', '₹4,30,499', '₹4,42,799',\n",
       "       '₹5,89,299', '₹2,98,199', '₹15,08,799', '₹4,73,699', '₹6,56,299',\n",
       "       '₹3,45,799', '₹5,84,599', '₹7,86,799', '₹6,24,799', '₹4,72,399',\n",
       "       '₹4,08,888', '₹2,88,888', '₹1,98,888', '₹8,98,888', '₹11,48,888',\n",
       "       '₹97,000', '₹1,35,000', '₹6,87,199', '₹3,87,099', '₹6,50,599',\n",
       "       '₹17,05,799', '₹5,26,899', '₹6,12,799', '₹2,69,099', '₹19,52,199',\n",
       "       '₹6,46,299', '₹4,25,899', '₹4,96,399', '₹3,93,799', '₹6,19,599',\n",
       "       '₹4,23,599', '₹8,31,999', '₹6,95,099', '₹9,80,000', '₹2,61,499',\n",
       "       '₹6,49,699', '₹3,13,399', '₹21,22,099', '₹5,52,799', '₹4,90,099',\n",
       "       '₹6,38,599', '₹3,74,799', '₹5,17,499', '₹5,53,899', '₹5,79,199',\n",
       "       '₹5,31,999', '₹4,96,199', '₹6,59,099', '₹5,34,799', '₹9,50,000',\n",
       "       '₹2,65,000', '₹74,999', '₹2,98,599', '₹4,22,999', '₹6,56,399',\n",
       "       '₹6,88,599', '₹11,13,299', '₹5,87,399', '₹4,64,899', '₹3,02,699',\n",
       "       '₹5,83,299', '₹8,77,999', '₹5,29,399', '₹4,39,000', '₹10,69,999',\n",
       "       '₹5,89,999', '₹6,61,299', '₹4,29,099', '₹6,29,799', '₹3,97,299',\n",
       "       '₹5,46,399', '₹4,12,999', '₹4,02,799', '₹9,15,699', '₹3,61,499',\n",
       "       '₹3,57,899', '₹4,75,399', '₹4,85,299', '₹6,43,599', '₹2,55,000',\n",
       "       '₹4,38,199', '₹9,24,599', '₹6,64,099', '₹4,62,299', '₹4,38,499',\n",
       "       '₹6,80,999', '₹3,93,199', '₹6,46,799', '₹3,49,999', '₹4,19,599',\n",
       "       '₹5,85,099', '₹6,27,799', '₹5,20,799', '₹4,10,199', '₹4,04,399',\n",
       "       '₹6,82,799', '₹44,90,000', '₹1,50,000', '₹33,00,000', '₹20,00,000',\n",
       "       '₹5,35,000', '₹10,45,799', '₹2,97,299', '₹9,80,199', '₹7,94,299',\n",
       "       '₹4,11,899', '₹5,57,399', '₹8,96,099', '₹6,37,699', '₹2,54,499',\n",
       "       '₹4,57,699', '₹3,61,599', '₹6,75,799', '₹3,89,499', '₹6,25,599',\n",
       "       '₹6,86,999', '₹90,000', '₹6,20,000', '₹5,19,699', '₹3,24,599',\n",
       "       '₹3,40,199', '₹6,93,999', '₹3,10,999', '₹7,22,199', '₹4,85,099',\n",
       "       '₹6,14,999', '₹10,61,399', '₹8,79,699', '₹7,55,199', '₹8,16,399',\n",
       "       '₹4,14,299', '₹4,76,299', '₹16,44,799', '₹4,40,000', '₹86,000',\n",
       "       '₹3,52,199', '₹5,66,899', '₹6,50,699', '₹4,13,399', '₹6,45,799',\n",
       "       '₹15,51,499', '₹8,11,799', '₹4,06,899', '₹7,27,299', '₹6,57,399',\n",
       "       '₹6,37,599', '₹6,23,799', '₹4,22,899', '₹5,76,099', '₹19,87,699',\n",
       "       '₹39,000', '₹3,26,000', '₹88,000', '₹16,52,199', '₹12,17,499',\n",
       "       '₹11,98,299', '₹5,90,799', '₹8,44,999', '₹3,28,499', '₹7,69,599',\n",
       "       '₹3,95,699', '₹2,94,799', '₹5,34,499', '₹6,81,399', '₹4,15,699',\n",
       "       '₹3,00,199', '₹8,56,699', '₹4,81,399', '₹2,29,000'], dtype=object)"
      ]
     },
     "execution_count": 8,
     "metadata": {},
     "output_type": "execute_result"
    }
   ],
   "source": [
    "car['Price'].unique()"
   ]
  },
  {
   "cell_type": "code",
   "execution_count": 9,
   "id": "cc0d51b8",
   "metadata": {},
   "outputs": [
    {
     "data": {
      "text/plain": [
       "array([' Petrol', ' Petrol ', ' Diesel ', ' Diesel', ' Electric ', ' CNG',\n",
       "       ' LPG', ' Petrol + CNG ', ' Hybrid ', ' CNG '], dtype=object)"
      ]
     },
     "execution_count": 9,
     "metadata": {},
     "output_type": "execute_result"
    }
   ],
   "source": [
    "car['Fuel_type'].unique()"
   ]
  },
  {
   "cell_type": "code",
   "execution_count": 10,
   "id": "b051f2b4",
   "metadata": {},
   "outputs": [
    {
     "data": {
      "text/plain": [
       "array([nan, ' 2nd Owner', ' 1st Owner', ' 3rd Owner'], dtype=object)"
      ]
     },
     "execution_count": 10,
     "metadata": {},
     "output_type": "execute_result"
    }
   ],
   "source": [
    "car['Owner'].unique()"
   ]
  },
  {
   "cell_type": "code",
   "execution_count": 11,
   "id": "b0fb1ad7",
   "metadata": {},
   "outputs": [],
   "source": [
    "backup=car.copy()"
   ]
  },
  {
   "cell_type": "code",
   "execution_count": 12,
   "id": "59cbd419",
   "metadata": {},
   "outputs": [],
   "source": [
    "car['Year']=car['Year'].astype(int)"
   ]
  },
  {
   "cell_type": "code",
   "execution_count": 14,
   "id": "12fab746",
   "metadata": {},
   "outputs": [],
   "source": [
    "car['Price']=car['Price'].str.replace('₹','')"
   ]
  },
  {
   "cell_type": "code",
   "execution_count": 15,
   "id": "99cf41de",
   "metadata": {},
   "outputs": [],
   "source": [
    "car['Price']=car['Price'].str.replace(',','')"
   ]
  },
  {
   "cell_type": "code",
   "execution_count": 16,
   "id": "7afc4a55",
   "metadata": {},
   "outputs": [
    {
     "data": {
      "text/plain": [
       "0        380000\n",
       "1        465000\n",
       "2       1350000\n",
       "3       1019699\n",
       "4        713499\n",
       "         ...   \n",
       "1027     229000\n",
       "1028     275000\n",
       "1029    1750000\n",
       "1030    1750000\n",
       "1031    1750000\n",
       "Name: Price, Length: 1032, dtype: object"
      ]
     },
     "execution_count": 16,
     "metadata": {},
     "output_type": "execute_result"
    }
   ],
   "source": [
    "car['Price']"
   ]
  },
  {
   "cell_type": "code",
   "execution_count": 17,
   "id": "2cf259ae",
   "metadata": {},
   "outputs": [],
   "source": [
    "car=car[car['Price']!='Ask For Price']"
   ]
  },
  {
   "cell_type": "code",
   "execution_count": 18,
   "id": "9ad65a3b",
   "metadata": {},
   "outputs": [],
   "source": [
    "car['Price']=car['Price'].astype(int)"
   ]
  },
  {
   "cell_type": "code",
   "execution_count": 19,
   "id": "b381699b",
   "metadata": {},
   "outputs": [
    {
     "data": {
      "text/plain": [
       "Pune                  323\n",
       "Chennai               312\n",
       "Bangalore             256\n",
       "Mumbai                 19\n",
       "Kolkata                19\n",
       "Madurai                12\n",
       "Hyderabad              11\n",
       "Jaipur                 10\n",
       "Delhi                  10\n",
       "Trichy                  8\n",
       "Nagpur                  5\n",
       "Ahmedabad               5\n",
       "NaviMumbai              3\n",
       "Lucknow                 2\n",
       "Kozhikode               2\n",
       "Bhubaneswar             2\n",
       "Pondicherry             2\n",
       "Surat                   2\n",
       "GirSomnath              1\n",
       "Anand                   1\n",
       "Uttarpara               1\n",
       "Muzaffarnagar           1\n",
       "Kochi                   1\n",
       "Dhanbad                 1\n",
       "Mahasamund              1\n",
       "Bilaspur                1\n",
       "Dwarka                  1\n",
       "Udaipur                 1\n",
       "Thane                   1\n",
       "Kurnool                 1\n",
       "Gurgaon                 1\n",
       "BolpurSantiniketan      1\n",
       "Chandigarh              1\n",
       "Malappuram              1\n",
       "Nanded                  1\n",
       "Coimbatore              1\n",
       "Kanchipuram             1\n",
       "Faridabad               1\n",
       "Jagdalpur               1\n",
       "Name: Location, dtype: int64"
      ]
     },
     "execution_count": 19,
     "metadata": {},
     "output_type": "execute_result"
    }
   ],
   "source": [
    " car['Location'].value_counts()"
   ]
  },
  {
   "cell_type": "code",
   "execution_count": 20,
   "id": "333ee7cb",
   "metadata": {},
   "outputs": [
    {
     "data": {
      "text/plain": [
       "Unnamed: 0      0\n",
       "Name            0\n",
       "Label           0\n",
       "Location        2\n",
       "Price           0\n",
       "Kms_driven      0\n",
       "Fuel_type       0\n",
       "Owner         288\n",
       "Year            0\n",
       "Company         0\n",
       "dtype: int64"
      ]
     },
     "execution_count": 20,
     "metadata": {},
     "output_type": "execute_result"
    }
   ],
   "source": [
    "car.isnull().sum()"
   ]
  },
  {
   "cell_type": "code",
   "execution_count": 21,
   "id": "1036d0ff",
   "metadata": {},
   "outputs": [
    {
     "data": {
      "text/plain": [
       " 2nd Owner    482\n",
       " 1st Owner    238\n",
       " 3rd Owner     18\n",
       "Name: Owner, dtype: int64"
      ]
     },
     "execution_count": 21,
     "metadata": {},
     "output_type": "execute_result"
    }
   ],
   "source": [
    "car['Owner'].value_counts()"
   ]
  },
  {
   "cell_type": "code",
   "execution_count": 22,
   "id": "0fdc7b06",
   "metadata": {},
   "outputs": [
    {
     "name": "stdout",
     "output_type": "stream",
     "text": [
      "<class 'pandas.core.frame.DataFrame'>\n",
      "Int64Index: 1026 entries, 0 to 1031\n",
      "Data columns (total 10 columns):\n",
      " #   Column      Non-Null Count  Dtype \n",
      "---  ------      --------------  ----- \n",
      " 0   Unnamed: 0  1026 non-null   int64 \n",
      " 1   Name        1026 non-null   object\n",
      " 2   Label       1026 non-null   object\n",
      " 3   Location    1024 non-null   object\n",
      " 4   Price       1026 non-null   int32 \n",
      " 5   Kms_driven  1026 non-null   object\n",
      " 6   Fuel_type   1026 non-null   object\n",
      " 7   Owner       738 non-null    object\n",
      " 8   Year        1026 non-null   int32 \n",
      " 9   Company     1026 non-null   object\n",
      "dtypes: int32(2), int64(1), object(7)\n",
      "memory usage: 80.2+ KB\n"
     ]
    }
   ],
   "source": [
    "car.info()"
   ]
  },
  {
   "cell_type": "code",
   "execution_count": 23,
   "id": "decd2f83",
   "metadata": {},
   "outputs": [],
   "source": [
    "car['Kms_driven']=car['Kms_driven'].str.split(' ').str.get(0).str.replace(',','')"
   ]
  },
  {
   "cell_type": "code",
   "execution_count": 24,
   "id": "48efb3ec",
   "metadata": {},
   "outputs": [
    {
     "data": {
      "text/plain": [
       "0       35056\n",
       "1       44000\n",
       "2       42917\n",
       "3       16112\n",
       "4       30988\n",
       "        ...  \n",
       "1027    65000\n",
       "1028    60000\n",
       "1029    31000\n",
       "1030    31000\n",
       "1031    31000\n",
       "Name: Kms_driven, Length: 1026, dtype: object"
      ]
     },
     "execution_count": 24,
     "metadata": {},
     "output_type": "execute_result"
    }
   ],
   "source": [
    "car['Kms_driven']"
   ]
  },
  {
   "cell_type": "code",
   "execution_count": 25,
   "id": "9409d097",
   "metadata": {},
   "outputs": [
    {
     "data": {
      "text/plain": [
       "85000    23\n",
       "56000     8\n",
       "55000     7\n",
       "57000     6\n",
       "80000     6\n",
       "         ..\n",
       "30731     1\n",
       "21627     1\n",
       "5580      1\n",
       "41371     1\n",
       "38766     1\n",
       "Name: Kms_driven, Length: 828, dtype: int64"
      ]
     },
     "execution_count": 25,
     "metadata": {},
     "output_type": "execute_result"
    }
   ],
   "source": [
    "car['Kms_driven'].value_counts()"
   ]
  },
  {
   "cell_type": "code",
   "execution_count": 26,
   "id": "101951f7",
   "metadata": {},
   "outputs": [],
   "source": [
    "car['Kms_driven']=car['Kms_driven'].astype(int)"
   ]
  },
  {
   "cell_type": "code",
   "execution_count": 27,
   "id": "ef3fb89c",
   "metadata": {},
   "outputs": [
    {
     "name": "stdout",
     "output_type": "stream",
     "text": [
      "<class 'pandas.core.frame.DataFrame'>\n",
      "Int64Index: 1026 entries, 0 to 1031\n",
      "Data columns (total 10 columns):\n",
      " #   Column      Non-Null Count  Dtype \n",
      "---  ------      --------------  ----- \n",
      " 0   Unnamed: 0  1026 non-null   int64 \n",
      " 1   Name        1026 non-null   object\n",
      " 2   Label       1026 non-null   object\n",
      " 3   Location    1024 non-null   object\n",
      " 4   Price       1026 non-null   int32 \n",
      " 5   Kms_driven  1026 non-null   int32 \n",
      " 6   Fuel_type   1026 non-null   object\n",
      " 7   Owner       738 non-null    object\n",
      " 8   Year        1026 non-null   int32 \n",
      " 9   Company     1026 non-null   object\n",
      "dtypes: int32(3), int64(1), object(6)\n",
      "memory usage: 76.1+ KB\n"
     ]
    }
   ],
   "source": [
    "car.info()"
   ]
  },
  {
   "cell_type": "code",
   "execution_count": 28,
   "id": "1d9638c9",
   "metadata": {},
   "outputs": [
    {
     "data": {
      "text/html": [
       "<div>\n",
       "<style scoped>\n",
       "    .dataframe tbody tr th:only-of-type {\n",
       "        vertical-align: middle;\n",
       "    }\n",
       "\n",
       "    .dataframe tbody tr th {\n",
       "        vertical-align: top;\n",
       "    }\n",
       "\n",
       "    .dataframe thead th {\n",
       "        text-align: right;\n",
       "    }\n",
       "</style>\n",
       "<table border=\"1\" class=\"dataframe\">\n",
       "  <thead>\n",
       "    <tr style=\"text-align: right;\">\n",
       "      <th></th>\n",
       "      <th>Unnamed: 0</th>\n",
       "      <th>Name</th>\n",
       "      <th>Label</th>\n",
       "      <th>Location</th>\n",
       "      <th>Price</th>\n",
       "      <th>Kms_driven</th>\n",
       "      <th>Fuel_type</th>\n",
       "      <th>Owner</th>\n",
       "      <th>Year</th>\n",
       "      <th>Company</th>\n",
       "    </tr>\n",
       "  </thead>\n",
       "  <tbody>\n",
       "    <tr>\n",
       "      <th>0</th>\n",
       "      <td>0</td>\n",
       "      <td>Ford Figo Duratec Petrol EXI 1.2 - 2015</td>\n",
       "      <td>PLATINUM</td>\n",
       "      <td>Bangalore</td>\n",
       "      <td>380000</td>\n",
       "      <td>35056</td>\n",
       "      <td>Petrol</td>\n",
       "      <td>NaN</td>\n",
       "      <td>2015</td>\n",
       "      <td>Ford</td>\n",
       "    </tr>\n",
       "    <tr>\n",
       "      <th>1</th>\n",
       "      <td>1</td>\n",
       "      <td>Maruti Suzuki Wagon R VXI BS IV - 2016</td>\n",
       "      <td>PLATINUM</td>\n",
       "      <td>Bangalore</td>\n",
       "      <td>465000</td>\n",
       "      <td>44000</td>\n",
       "      <td>Petrol</td>\n",
       "      <td>NaN</td>\n",
       "      <td>2016</td>\n",
       "      <td>Maruti</td>\n",
       "    </tr>\n",
       "    <tr>\n",
       "      <th>2</th>\n",
       "      <td>2</td>\n",
       "      <td>Hyundai Creta 1.6 SX PLUS AUTO PETROL - 2018</td>\n",
       "      <td>PLATINUM</td>\n",
       "      <td>Bangalore</td>\n",
       "      <td>1350000</td>\n",
       "      <td>42917</td>\n",
       "      <td>Petrol</td>\n",
       "      <td>NaN</td>\n",
       "      <td>2018</td>\n",
       "      <td>Hyundai</td>\n",
       "    </tr>\n",
       "    <tr>\n",
       "      <th>3</th>\n",
       "      <td>3</td>\n",
       "      <td>Hyundai Venue - 2019</td>\n",
       "      <td>PLATINUM</td>\n",
       "      <td>Chennai</td>\n",
       "      <td>1019699</td>\n",
       "      <td>16112</td>\n",
       "      <td>Petrol</td>\n",
       "      <td>2nd Owner</td>\n",
       "      <td>2019</td>\n",
       "      <td>Hyundai</td>\n",
       "    </tr>\n",
       "    <tr>\n",
       "      <th>4</th>\n",
       "      <td>4</td>\n",
       "      <td>Honda Jazz - 2017</td>\n",
       "      <td>PLATINUM</td>\n",
       "      <td>Pune</td>\n",
       "      <td>713499</td>\n",
       "      <td>30988</td>\n",
       "      <td>Petrol</td>\n",
       "      <td>2nd Owner</td>\n",
       "      <td>2017</td>\n",
       "      <td>Honda</td>\n",
       "    </tr>\n",
       "  </tbody>\n",
       "</table>\n",
       "</div>"
      ],
      "text/plain": [
       "   Unnamed: 0                                          Name     Label  \\\n",
       "0           0       Ford Figo Duratec Petrol EXI 1.2 - 2015  PLATINUM   \n",
       "1           1        Maruti Suzuki Wagon R VXI BS IV - 2016  PLATINUM   \n",
       "2           2  Hyundai Creta 1.6 SX PLUS AUTO PETROL - 2018  PLATINUM   \n",
       "3           3                          Hyundai Venue - 2019  PLATINUM   \n",
       "4           4                             Honda Jazz - 2017  PLATINUM   \n",
       "\n",
       "    Location    Price  Kms_driven Fuel_type       Owner  Year  Company  \n",
       "0  Bangalore   380000       35056    Petrol         NaN  2015     Ford  \n",
       "1  Bangalore   465000       44000    Petrol         NaN  2016   Maruti  \n",
       "2  Bangalore  1350000       42917    Petrol         NaN  2018  Hyundai  \n",
       "3    Chennai  1019699       16112   Petrol    2nd Owner  2019  Hyundai  \n",
       "4       Pune   713499       30988   Petrol    2nd Owner  2017    Honda  "
      ]
     },
     "execution_count": 28,
     "metadata": {},
     "output_type": "execute_result"
    }
   ],
   "source": [
    "car.head()"
   ]
  },
  {
   "cell_type": "code",
   "execution_count": 29,
   "id": "129929d4",
   "metadata": {},
   "outputs": [],
   "source": [
    "car['Name']=car['Name'].str.split(' ').str.slice(0,3).str.join(' ')"
   ]
  },
  {
   "cell_type": "code",
   "execution_count": 30,
   "id": "8c4564d2",
   "metadata": {},
   "outputs": [
    {
     "data": {
      "text/plain": [
       "0          Ford Figo Duratec\n",
       "1        Maruti Suzuki Wagon\n",
       "2          Hyundai Creta 1.6\n",
       "3            Hyundai Venue -\n",
       "4               Honda Jazz -\n",
       "                ...         \n",
       "1027       Hyundai i10 Magna\n",
       "1028      Maruti Suzuki Alto\n",
       "1029    Jeep Compass Limited\n",
       "1030    Jeep Compass Limited\n",
       "1031    Jeep Compass Limited\n",
       "Name: Name, Length: 1026, dtype: object"
      ]
     },
     "execution_count": 30,
     "metadata": {},
     "output_type": "execute_result"
    }
   ],
   "source": [
    "car['Name']"
   ]
  },
  {
   "cell_type": "code",
   "execution_count": 31,
   "id": "2931526d",
   "metadata": {},
   "outputs": [
    {
     "data": {
      "text/html": [
       "<div>\n",
       "<style scoped>\n",
       "    .dataframe tbody tr th:only-of-type {\n",
       "        vertical-align: middle;\n",
       "    }\n",
       "\n",
       "    .dataframe tbody tr th {\n",
       "        vertical-align: top;\n",
       "    }\n",
       "\n",
       "    .dataframe thead th {\n",
       "        text-align: right;\n",
       "    }\n",
       "</style>\n",
       "<table border=\"1\" class=\"dataframe\">\n",
       "  <thead>\n",
       "    <tr style=\"text-align: right;\">\n",
       "      <th></th>\n",
       "      <th>index</th>\n",
       "      <th>Unnamed: 0</th>\n",
       "      <th>Name</th>\n",
       "      <th>Label</th>\n",
       "      <th>Location</th>\n",
       "      <th>Price</th>\n",
       "      <th>Kms_driven</th>\n",
       "      <th>Fuel_type</th>\n",
       "      <th>Owner</th>\n",
       "      <th>Year</th>\n",
       "      <th>Company</th>\n",
       "    </tr>\n",
       "  </thead>\n",
       "  <tbody>\n",
       "    <tr>\n",
       "      <th>0</th>\n",
       "      <td>0</td>\n",
       "      <td>0</td>\n",
       "      <td>Ford Figo Duratec</td>\n",
       "      <td>PLATINUM</td>\n",
       "      <td>Bangalore</td>\n",
       "      <td>380000</td>\n",
       "      <td>35056</td>\n",
       "      <td>Petrol</td>\n",
       "      <td>NaN</td>\n",
       "      <td>2015</td>\n",
       "      <td>Ford</td>\n",
       "    </tr>\n",
       "    <tr>\n",
       "      <th>1</th>\n",
       "      <td>1</td>\n",
       "      <td>1</td>\n",
       "      <td>Maruti Suzuki Wagon</td>\n",
       "      <td>PLATINUM</td>\n",
       "      <td>Bangalore</td>\n",
       "      <td>465000</td>\n",
       "      <td>44000</td>\n",
       "      <td>Petrol</td>\n",
       "      <td>NaN</td>\n",
       "      <td>2016</td>\n",
       "      <td>Maruti</td>\n",
       "    </tr>\n",
       "    <tr>\n",
       "      <th>2</th>\n",
       "      <td>2</td>\n",
       "      <td>2</td>\n",
       "      <td>Hyundai Creta 1.6</td>\n",
       "      <td>PLATINUM</td>\n",
       "      <td>Bangalore</td>\n",
       "      <td>1350000</td>\n",
       "      <td>42917</td>\n",
       "      <td>Petrol</td>\n",
       "      <td>NaN</td>\n",
       "      <td>2018</td>\n",
       "      <td>Hyundai</td>\n",
       "    </tr>\n",
       "    <tr>\n",
       "      <th>3</th>\n",
       "      <td>3</td>\n",
       "      <td>3</td>\n",
       "      <td>Hyundai Venue -</td>\n",
       "      <td>PLATINUM</td>\n",
       "      <td>Chennai</td>\n",
       "      <td>1019699</td>\n",
       "      <td>16112</td>\n",
       "      <td>Petrol</td>\n",
       "      <td>2nd Owner</td>\n",
       "      <td>2019</td>\n",
       "      <td>Hyundai</td>\n",
       "    </tr>\n",
       "    <tr>\n",
       "      <th>4</th>\n",
       "      <td>4</td>\n",
       "      <td>4</td>\n",
       "      <td>Honda Jazz -</td>\n",
       "      <td>PLATINUM</td>\n",
       "      <td>Pune</td>\n",
       "      <td>713499</td>\n",
       "      <td>30988</td>\n",
       "      <td>Petrol</td>\n",
       "      <td>2nd Owner</td>\n",
       "      <td>2017</td>\n",
       "      <td>Honda</td>\n",
       "    </tr>\n",
       "    <tr>\n",
       "      <th>...</th>\n",
       "      <td>...</td>\n",
       "      <td>...</td>\n",
       "      <td>...</td>\n",
       "      <td>...</td>\n",
       "      <td>...</td>\n",
       "      <td>...</td>\n",
       "      <td>...</td>\n",
       "      <td>...</td>\n",
       "      <td>...</td>\n",
       "      <td>...</td>\n",
       "      <td>...</td>\n",
       "    </tr>\n",
       "    <tr>\n",
       "      <th>1021</th>\n",
       "      <td>1027</td>\n",
       "      <td>1027</td>\n",
       "      <td>Hyundai i10 Magna</td>\n",
       "      <td>GOLD</td>\n",
       "      <td>Bangalore</td>\n",
       "      <td>229000</td>\n",
       "      <td>65000</td>\n",
       "      <td>Petrol</td>\n",
       "      <td>1st Owner</td>\n",
       "      <td>2014</td>\n",
       "      <td>Hyundai</td>\n",
       "    </tr>\n",
       "    <tr>\n",
       "      <th>1022</th>\n",
       "      <td>1028</td>\n",
       "      <td>1028</td>\n",
       "      <td>Maruti Suzuki Alto</td>\n",
       "      <td>GOLD</td>\n",
       "      <td>Bangalore</td>\n",
       "      <td>275000</td>\n",
       "      <td>60000</td>\n",
       "      <td>Petrol</td>\n",
       "      <td>NaN</td>\n",
       "      <td>2014</td>\n",
       "      <td>Maruti</td>\n",
       "    </tr>\n",
       "    <tr>\n",
       "      <th>1023</th>\n",
       "      <td>1029</td>\n",
       "      <td>1029</td>\n",
       "      <td>Jeep Compass Limited</td>\n",
       "      <td>GOLD</td>\n",
       "      <td>Mahasamund</td>\n",
       "      <td>1750000</td>\n",
       "      <td>31000</td>\n",
       "      <td>Diesel</td>\n",
       "      <td>1st Owner</td>\n",
       "      <td>2017</td>\n",
       "      <td>Jeep</td>\n",
       "    </tr>\n",
       "    <tr>\n",
       "      <th>1024</th>\n",
       "      <td>1030</td>\n",
       "      <td>1030</td>\n",
       "      <td>Jeep Compass Limited</td>\n",
       "      <td>GOLD</td>\n",
       "      <td>Bilaspur</td>\n",
       "      <td>1750000</td>\n",
       "      <td>31000</td>\n",
       "      <td>Diesel</td>\n",
       "      <td>1st Owner</td>\n",
       "      <td>2017</td>\n",
       "      <td>Jeep</td>\n",
       "    </tr>\n",
       "    <tr>\n",
       "      <th>1025</th>\n",
       "      <td>1031</td>\n",
       "      <td>1031</td>\n",
       "      <td>Jeep Compass Limited</td>\n",
       "      <td>GOLD</td>\n",
       "      <td>Jagdalpur</td>\n",
       "      <td>1750000</td>\n",
       "      <td>31000</td>\n",
       "      <td>Diesel</td>\n",
       "      <td>1st Owner</td>\n",
       "      <td>2017</td>\n",
       "      <td>Jeep</td>\n",
       "    </tr>\n",
       "  </tbody>\n",
       "</table>\n",
       "<p>1026 rows × 11 columns</p>\n",
       "</div>"
      ],
      "text/plain": [
       "      index  Unnamed: 0                  Name     Label    Location    Price  \\\n",
       "0         0           0     Ford Figo Duratec  PLATINUM   Bangalore   380000   \n",
       "1         1           1   Maruti Suzuki Wagon  PLATINUM   Bangalore   465000   \n",
       "2         2           2     Hyundai Creta 1.6  PLATINUM   Bangalore  1350000   \n",
       "3         3           3       Hyundai Venue -  PLATINUM     Chennai  1019699   \n",
       "4         4           4          Honda Jazz -  PLATINUM        Pune   713499   \n",
       "...     ...         ...                   ...       ...         ...      ...   \n",
       "1021   1027        1027     Hyundai i10 Magna      GOLD   Bangalore   229000   \n",
       "1022   1028        1028    Maruti Suzuki Alto      GOLD   Bangalore   275000   \n",
       "1023   1029        1029  Jeep Compass Limited      GOLD  Mahasamund  1750000   \n",
       "1024   1030        1030  Jeep Compass Limited      GOLD    Bilaspur  1750000   \n",
       "1025   1031        1031  Jeep Compass Limited      GOLD   Jagdalpur  1750000   \n",
       "\n",
       "      Kms_driven Fuel_type       Owner  Year  Company  \n",
       "0          35056    Petrol         NaN  2015     Ford  \n",
       "1          44000    Petrol         NaN  2016   Maruti  \n",
       "2          42917    Petrol         NaN  2018  Hyundai  \n",
       "3          16112   Petrol    2nd Owner  2019  Hyundai  \n",
       "4          30988   Petrol    2nd Owner  2017    Honda  \n",
       "...          ...       ...         ...   ...      ...  \n",
       "1021       65000   Petrol    1st Owner  2014  Hyundai  \n",
       "1022       60000    Petrol         NaN  2014   Maruti  \n",
       "1023       31000   Diesel    1st Owner  2017     Jeep  \n",
       "1024       31000   Diesel    1st Owner  2017     Jeep  \n",
       "1025       31000   Diesel    1st Owner  2017     Jeep  \n",
       "\n",
       "[1026 rows x 11 columns]"
      ]
     },
     "execution_count": 31,
     "metadata": {},
     "output_type": "execute_result"
    }
   ],
   "source": [
    "car.reset_index()"
   ]
  },
  {
   "cell_type": "code",
   "execution_count": 32,
   "id": "a7fe15b4",
   "metadata": {},
   "outputs": [
    {
     "data": {
      "text/plain": [
       "PLATINUM    687\n",
       "GOLD        339\n",
       "Name: Label, dtype: int64"
      ]
     },
     "execution_count": 32,
     "metadata": {},
     "output_type": "execute_result"
    }
   ],
   "source": [
    "car['Label'].value_counts()"
   ]
  },
  {
   "cell_type": "code",
   "execution_count": 33,
   "id": "1d0f2df4",
   "metadata": {},
   "outputs": [
    {
     "data": {
      "text/plain": [
       "Pune                  323\n",
       "Chennai               312\n",
       "Bangalore             256\n",
       "Mumbai                 19\n",
       "Kolkata                19\n",
       "Madurai                12\n",
       "Hyderabad              11\n",
       "Jaipur                 10\n",
       "Delhi                  10\n",
       "Trichy                  8\n",
       "Nagpur                  5\n",
       "Ahmedabad               5\n",
       "NaviMumbai              3\n",
       "Lucknow                 2\n",
       "Kozhikode               2\n",
       "Bhubaneswar             2\n",
       "Pondicherry             2\n",
       "Surat                   2\n",
       "GirSomnath              1\n",
       "Anand                   1\n",
       "Uttarpara               1\n",
       "Muzaffarnagar           1\n",
       "Kochi                   1\n",
       "Dhanbad                 1\n",
       "Mahasamund              1\n",
       "Bilaspur                1\n",
       "Dwarka                  1\n",
       "Udaipur                 1\n",
       "Thane                   1\n",
       "Kurnool                 1\n",
       "Gurgaon                 1\n",
       "BolpurSantiniketan      1\n",
       "Chandigarh              1\n",
       "Malappuram              1\n",
       "Nanded                  1\n",
       "Coimbatore              1\n",
       "Kanchipuram             1\n",
       "Faridabad               1\n",
       "Jagdalpur               1\n",
       "Name: Location, dtype: int64"
      ]
     },
     "execution_count": 33,
     "metadata": {},
     "output_type": "execute_result"
    }
   ],
   "source": [
    "car['Location'].value_counts()"
   ]
  },
  {
   "cell_type": "code",
   "execution_count": 34,
   "id": "edce2b28",
   "metadata": {},
   "outputs": [
    {
     "data": {
      "text/plain": [
       "Unnamed: 0      0\n",
       "Name            0\n",
       "Label           0\n",
       "Location        2\n",
       "Price           0\n",
       "Kms_driven      0\n",
       "Fuel_type       0\n",
       "Owner         288\n",
       "Year            0\n",
       "Company         0\n",
       "dtype: int64"
      ]
     },
     "execution_count": 34,
     "metadata": {},
     "output_type": "execute_result"
    }
   ],
   "source": [
    "car.isnull().sum()"
   ]
  },
  {
   "cell_type": "code",
   "execution_count": 35,
   "id": "906e6b86",
   "metadata": {},
   "outputs": [],
   "source": [
    "car=car.reset_index(drop=True)"
   ]
  },
  {
   "cell_type": "code",
   "execution_count": 36,
   "id": "79e5cf1d",
   "metadata": {},
   "outputs": [],
   "source": [
    "car=car.loc[~car['Location'].isnull()]"
   ]
  },
  {
   "cell_type": "code",
   "execution_count": 37,
   "id": "51e4f62e",
   "metadata": {},
   "outputs": [
    {
     "data": {
      "text/plain": [
       "Unnamed: 0      0\n",
       "Name            0\n",
       "Label           0\n",
       "Location        0\n",
       "Price           0\n",
       "Kms_driven      0\n",
       "Fuel_type       0\n",
       "Owner         287\n",
       "Year            0\n",
       "Company         0\n",
       "dtype: int64"
      ]
     },
     "execution_count": 37,
     "metadata": {},
     "output_type": "execute_result"
    }
   ],
   "source": [
    "car.isnull().sum()"
   ]
  },
  {
   "cell_type": "code",
   "execution_count": 38,
   "id": "e4d025c8",
   "metadata": {},
   "outputs": [
    {
     "data": {
      "text/plain": [
       "0     2nd Owner\n",
       "Name: Owner, dtype: object"
      ]
     },
     "execution_count": 38,
     "metadata": {},
     "output_type": "execute_result"
    }
   ],
   "source": [
    "car['Owner'].mode()"
   ]
  },
  {
   "cell_type": "code",
   "execution_count": 39,
   "id": "dded13c1",
   "metadata": {},
   "outputs": [],
   "source": [
    "car['Owner']=car['Owner'].fillna(value=car['Owner'].mode()[0])"
   ]
  },
  {
   "cell_type": "code",
   "execution_count": 40,
   "id": "badb1900",
   "metadata": {},
   "outputs": [
    {
     "data": {
      "text/plain": [
       "Unnamed: 0    0\n",
       "Name          0\n",
       "Label         0\n",
       "Location      0\n",
       "Price         0\n",
       "Kms_driven    0\n",
       "Fuel_type     0\n",
       "Owner         0\n",
       "Year          0\n",
       "Company       0\n",
       "dtype: int64"
      ]
     },
     "execution_count": 40,
     "metadata": {},
     "output_type": "execute_result"
    }
   ],
   "source": [
    "car.isnull().sum()"
   ]
  },
  {
   "cell_type": "code",
   "execution_count": 41,
   "id": "93f26181",
   "metadata": {},
   "outputs": [
    {
     "data": {
      "text/html": [
       "<div>\n",
       "<style scoped>\n",
       "    .dataframe tbody tr th:only-of-type {\n",
       "        vertical-align: middle;\n",
       "    }\n",
       "\n",
       "    .dataframe tbody tr th {\n",
       "        vertical-align: top;\n",
       "    }\n",
       "\n",
       "    .dataframe thead th {\n",
       "        text-align: right;\n",
       "    }\n",
       "</style>\n",
       "<table border=\"1\" class=\"dataframe\">\n",
       "  <thead>\n",
       "    <tr style=\"text-align: right;\">\n",
       "      <th></th>\n",
       "      <th>Unnamed: 0</th>\n",
       "      <th>Name</th>\n",
       "      <th>Label</th>\n",
       "      <th>Location</th>\n",
       "      <th>Price</th>\n",
       "      <th>Kms_driven</th>\n",
       "      <th>Fuel_type</th>\n",
       "      <th>Owner</th>\n",
       "      <th>Year</th>\n",
       "      <th>Company</th>\n",
       "    </tr>\n",
       "  </thead>\n",
       "  <tbody>\n",
       "    <tr>\n",
       "      <th>0</th>\n",
       "      <td>0</td>\n",
       "      <td>Ford Figo Duratec</td>\n",
       "      <td>PLATINUM</td>\n",
       "      <td>Bangalore</td>\n",
       "      <td>380000</td>\n",
       "      <td>35056</td>\n",
       "      <td>Petrol</td>\n",
       "      <td>2nd Owner</td>\n",
       "      <td>2015</td>\n",
       "      <td>Ford</td>\n",
       "    </tr>\n",
       "    <tr>\n",
       "      <th>1</th>\n",
       "      <td>1</td>\n",
       "      <td>Maruti Suzuki Wagon</td>\n",
       "      <td>PLATINUM</td>\n",
       "      <td>Bangalore</td>\n",
       "      <td>465000</td>\n",
       "      <td>44000</td>\n",
       "      <td>Petrol</td>\n",
       "      <td>2nd Owner</td>\n",
       "      <td>2016</td>\n",
       "      <td>Maruti</td>\n",
       "    </tr>\n",
       "    <tr>\n",
       "      <th>2</th>\n",
       "      <td>2</td>\n",
       "      <td>Hyundai Creta 1.6</td>\n",
       "      <td>PLATINUM</td>\n",
       "      <td>Bangalore</td>\n",
       "      <td>1350000</td>\n",
       "      <td>42917</td>\n",
       "      <td>Petrol</td>\n",
       "      <td>2nd Owner</td>\n",
       "      <td>2018</td>\n",
       "      <td>Hyundai</td>\n",
       "    </tr>\n",
       "    <tr>\n",
       "      <th>3</th>\n",
       "      <td>3</td>\n",
       "      <td>Hyundai Venue -</td>\n",
       "      <td>PLATINUM</td>\n",
       "      <td>Chennai</td>\n",
       "      <td>1019699</td>\n",
       "      <td>16112</td>\n",
       "      <td>Petrol</td>\n",
       "      <td>2nd Owner</td>\n",
       "      <td>2019</td>\n",
       "      <td>Hyundai</td>\n",
       "    </tr>\n",
       "    <tr>\n",
       "      <th>4</th>\n",
       "      <td>4</td>\n",
       "      <td>Honda Jazz -</td>\n",
       "      <td>PLATINUM</td>\n",
       "      <td>Pune</td>\n",
       "      <td>713499</td>\n",
       "      <td>30988</td>\n",
       "      <td>Petrol</td>\n",
       "      <td>2nd Owner</td>\n",
       "      <td>2017</td>\n",
       "      <td>Honda</td>\n",
       "    </tr>\n",
       "    <tr>\n",
       "      <th>...</th>\n",
       "      <td>...</td>\n",
       "      <td>...</td>\n",
       "      <td>...</td>\n",
       "      <td>...</td>\n",
       "      <td>...</td>\n",
       "      <td>...</td>\n",
       "      <td>...</td>\n",
       "      <td>...</td>\n",
       "      <td>...</td>\n",
       "      <td>...</td>\n",
       "    </tr>\n",
       "    <tr>\n",
       "      <th>1021</th>\n",
       "      <td>1027</td>\n",
       "      <td>Hyundai i10 Magna</td>\n",
       "      <td>GOLD</td>\n",
       "      <td>Bangalore</td>\n",
       "      <td>229000</td>\n",
       "      <td>65000</td>\n",
       "      <td>Petrol</td>\n",
       "      <td>1st Owner</td>\n",
       "      <td>2014</td>\n",
       "      <td>Hyundai</td>\n",
       "    </tr>\n",
       "    <tr>\n",
       "      <th>1022</th>\n",
       "      <td>1028</td>\n",
       "      <td>Maruti Suzuki Alto</td>\n",
       "      <td>GOLD</td>\n",
       "      <td>Bangalore</td>\n",
       "      <td>275000</td>\n",
       "      <td>60000</td>\n",
       "      <td>Petrol</td>\n",
       "      <td>2nd Owner</td>\n",
       "      <td>2014</td>\n",
       "      <td>Maruti</td>\n",
       "    </tr>\n",
       "    <tr>\n",
       "      <th>1023</th>\n",
       "      <td>1029</td>\n",
       "      <td>Jeep Compass Limited</td>\n",
       "      <td>GOLD</td>\n",
       "      <td>Mahasamund</td>\n",
       "      <td>1750000</td>\n",
       "      <td>31000</td>\n",
       "      <td>Diesel</td>\n",
       "      <td>1st Owner</td>\n",
       "      <td>2017</td>\n",
       "      <td>Jeep</td>\n",
       "    </tr>\n",
       "    <tr>\n",
       "      <th>1024</th>\n",
       "      <td>1030</td>\n",
       "      <td>Jeep Compass Limited</td>\n",
       "      <td>GOLD</td>\n",
       "      <td>Bilaspur</td>\n",
       "      <td>1750000</td>\n",
       "      <td>31000</td>\n",
       "      <td>Diesel</td>\n",
       "      <td>1st Owner</td>\n",
       "      <td>2017</td>\n",
       "      <td>Jeep</td>\n",
       "    </tr>\n",
       "    <tr>\n",
       "      <th>1025</th>\n",
       "      <td>1031</td>\n",
       "      <td>Jeep Compass Limited</td>\n",
       "      <td>GOLD</td>\n",
       "      <td>Jagdalpur</td>\n",
       "      <td>1750000</td>\n",
       "      <td>31000</td>\n",
       "      <td>Diesel</td>\n",
       "      <td>1st Owner</td>\n",
       "      <td>2017</td>\n",
       "      <td>Jeep</td>\n",
       "    </tr>\n",
       "  </tbody>\n",
       "</table>\n",
       "<p>1024 rows × 10 columns</p>\n",
       "</div>"
      ],
      "text/plain": [
       "      Unnamed: 0                  Name     Label    Location    Price  \\\n",
       "0              0     Ford Figo Duratec  PLATINUM   Bangalore   380000   \n",
       "1              1   Maruti Suzuki Wagon  PLATINUM   Bangalore   465000   \n",
       "2              2     Hyundai Creta 1.6  PLATINUM   Bangalore  1350000   \n",
       "3              3       Hyundai Venue -  PLATINUM     Chennai  1019699   \n",
       "4              4          Honda Jazz -  PLATINUM        Pune   713499   \n",
       "...          ...                   ...       ...         ...      ...   \n",
       "1021        1027     Hyundai i10 Magna      GOLD   Bangalore   229000   \n",
       "1022        1028    Maruti Suzuki Alto      GOLD   Bangalore   275000   \n",
       "1023        1029  Jeep Compass Limited      GOLD  Mahasamund  1750000   \n",
       "1024        1030  Jeep Compass Limited      GOLD    Bilaspur  1750000   \n",
       "1025        1031  Jeep Compass Limited      GOLD   Jagdalpur  1750000   \n",
       "\n",
       "      Kms_driven Fuel_type       Owner  Year  Company  \n",
       "0          35056    Petrol   2nd Owner  2015     Ford  \n",
       "1          44000    Petrol   2nd Owner  2016   Maruti  \n",
       "2          42917    Petrol   2nd Owner  2018  Hyundai  \n",
       "3          16112   Petrol    2nd Owner  2019  Hyundai  \n",
       "4          30988   Petrol    2nd Owner  2017    Honda  \n",
       "...          ...       ...         ...   ...      ...  \n",
       "1021       65000   Petrol    1st Owner  2014  Hyundai  \n",
       "1022       60000    Petrol   2nd Owner  2014   Maruti  \n",
       "1023       31000   Diesel    1st Owner  2017     Jeep  \n",
       "1024       31000   Diesel    1st Owner  2017     Jeep  \n",
       "1025       31000   Diesel    1st Owner  2017     Jeep  \n",
       "\n",
       "[1024 rows x 10 columns]"
      ]
     },
     "execution_count": 41,
     "metadata": {},
     "output_type": "execute_result"
    }
   ],
   "source": [
    "car"
   ]
  },
  {
   "cell_type": "code",
   "execution_count": 137,
   "id": "226eaf08",
   "metadata": {},
   "outputs": [
    {
     "data": {
      "text/plain": [
       "PLATINUM    687\n",
       "GOLD        337\n",
       "Name: Label, dtype: int64"
      ]
     },
     "execution_count": 137,
     "metadata": {},
     "output_type": "execute_result"
    }
   ],
   "source": [
    "car['Label'].value_counts()"
   ]
  },
  {
   "cell_type": "code",
   "execution_count": 138,
   "id": "8cb0a873",
   "metadata": {},
   "outputs": [
    {
     "data": {
      "text/plain": [
       " Petrol           571\n",
       " Diesel           158\n",
       " Petrol           152\n",
       " Diesel           131\n",
       " CNG                3\n",
       " CNG                3\n",
       " Electric           2\n",
       " Petrol + CNG       2\n",
       " LPG                1\n",
       " Hybrid             1\n",
       "Name: Fuel_type, dtype: int64"
      ]
     },
     "execution_count": 138,
     "metadata": {},
     "output_type": "execute_result"
    }
   ],
   "source": [
    "car['Fuel_type'].value_counts()"
   ]
  },
  {
   "cell_type": "code",
   "execution_count": 140,
   "id": "36b17b61",
   "metadata": {},
   "outputs": [
    {
     "name": "stderr",
     "output_type": "stream",
     "text": [
      "C:\\Users\\Atul Sambyal\\AppData\\Local\\Temp\\ipykernel_4512\\2948011243.py:1: SettingWithCopyWarning: \n",
      "A value is trying to be set on a copy of a slice from a DataFrame.\n",
      "Try using .loc[row_indexer,col_indexer] = value instead\n",
      "\n",
      "See the caveats in the documentation: https://pandas.pydata.org/pandas-docs/stable/user_guide/indexing.html#returning-a-view-versus-a-copy\n",
      "  car['Fuel_type']=car['Fuel_type'].str.replace(' ','')\n"
     ]
    }
   ],
   "source": [
    "car['Fuel_type']=car['Fuel_type'].str.replace(' ','')"
   ]
  },
  {
   "cell_type": "code",
   "execution_count": 141,
   "id": "28b02613",
   "metadata": {},
   "outputs": [
    {
     "data": {
      "text/plain": [
       "Petrol        723\n",
       "Diesel        289\n",
       "CNG             6\n",
       "Electric        2\n",
       "Petrol+CNG      2\n",
       "LPG             1\n",
       "Hybrid          1\n",
       "Name: Fuel_type, dtype: int64"
      ]
     },
     "execution_count": 141,
     "metadata": {},
     "output_type": "execute_result"
    }
   ],
   "source": [
    "car['Fuel_type'].value_counts()"
   ]
  },
  {
   "cell_type": "code",
   "execution_count": 142,
   "id": "ac29dfc1",
   "metadata": {},
   "outputs": [
    {
     "data": {
      "text/plain": [
       " 2nd Owner    769\n",
       " 1st Owner    237\n",
       " 3rd Owner     18\n",
       "Name: Owner, dtype: int64"
      ]
     },
     "execution_count": 142,
     "metadata": {},
     "output_type": "execute_result"
    }
   ],
   "source": [
    "car['Owner'].value_counts()"
   ]
  },
  {
   "cell_type": "code",
   "execution_count": 162,
   "id": "246b4a09",
   "metadata": {},
   "outputs": [
    {
     "data": {
      "text/html": [
       "<div>\n",
       "<style scoped>\n",
       "    .dataframe tbody tr th:only-of-type {\n",
       "        vertical-align: middle;\n",
       "    }\n",
       "\n",
       "    .dataframe tbody tr th {\n",
       "        vertical-align: top;\n",
       "    }\n",
       "\n",
       "    .dataframe thead th {\n",
       "        text-align: right;\n",
       "    }\n",
       "</style>\n",
       "<table border=\"1\" class=\"dataframe\">\n",
       "  <thead>\n",
       "    <tr style=\"text-align: right;\">\n",
       "      <th></th>\n",
       "      <th>Unnamed: 0</th>\n",
       "      <th>Name</th>\n",
       "      <th>Label</th>\n",
       "      <th>Location</th>\n",
       "      <th>Price</th>\n",
       "      <th>Kms_driven</th>\n",
       "      <th>Fuel_type</th>\n",
       "      <th>Owner</th>\n",
       "      <th>Year</th>\n",
       "      <th>Company</th>\n",
       "    </tr>\n",
       "  </thead>\n",
       "  <tbody>\n",
       "    <tr>\n",
       "      <th>0</th>\n",
       "      <td>0</td>\n",
       "      <td>Ford Figo Duratec</td>\n",
       "      <td>PLATINUM</td>\n",
       "      <td>Bangalore</td>\n",
       "      <td>380000</td>\n",
       "      <td>35056</td>\n",
       "      <td>Petrol</td>\n",
       "      <td>2nd Owner</td>\n",
       "      <td>2015</td>\n",
       "      <td>Ford</td>\n",
       "    </tr>\n",
       "    <tr>\n",
       "      <th>1</th>\n",
       "      <td>1</td>\n",
       "      <td>Maruti Suzuki Wagon</td>\n",
       "      <td>PLATINUM</td>\n",
       "      <td>Bangalore</td>\n",
       "      <td>465000</td>\n",
       "      <td>44000</td>\n",
       "      <td>Petrol</td>\n",
       "      <td>2nd Owner</td>\n",
       "      <td>2016</td>\n",
       "      <td>Maruti</td>\n",
       "    </tr>\n",
       "    <tr>\n",
       "      <th>2</th>\n",
       "      <td>2</td>\n",
       "      <td>Hyundai Creta 1.6</td>\n",
       "      <td>PLATINUM</td>\n",
       "      <td>Bangalore</td>\n",
       "      <td>1350000</td>\n",
       "      <td>42917</td>\n",
       "      <td>Petrol</td>\n",
       "      <td>2nd Owner</td>\n",
       "      <td>2018</td>\n",
       "      <td>Hyundai</td>\n",
       "    </tr>\n",
       "    <tr>\n",
       "      <th>3</th>\n",
       "      <td>3</td>\n",
       "      <td>Hyundai Venue -</td>\n",
       "      <td>PLATINUM</td>\n",
       "      <td>Chennai</td>\n",
       "      <td>1019699</td>\n",
       "      <td>16112</td>\n",
       "      <td>Petrol</td>\n",
       "      <td>2nd Owner</td>\n",
       "      <td>2019</td>\n",
       "      <td>Hyundai</td>\n",
       "    </tr>\n",
       "    <tr>\n",
       "      <th>4</th>\n",
       "      <td>4</td>\n",
       "      <td>Honda Jazz -</td>\n",
       "      <td>PLATINUM</td>\n",
       "      <td>Pune</td>\n",
       "      <td>713499</td>\n",
       "      <td>30988</td>\n",
       "      <td>Petrol</td>\n",
       "      <td>2nd Owner</td>\n",
       "      <td>2017</td>\n",
       "      <td>Honda</td>\n",
       "    </tr>\n",
       "    <tr>\n",
       "      <th>...</th>\n",
       "      <td>...</td>\n",
       "      <td>...</td>\n",
       "      <td>...</td>\n",
       "      <td>...</td>\n",
       "      <td>...</td>\n",
       "      <td>...</td>\n",
       "      <td>...</td>\n",
       "      <td>...</td>\n",
       "      <td>...</td>\n",
       "      <td>...</td>\n",
       "    </tr>\n",
       "    <tr>\n",
       "      <th>1021</th>\n",
       "      <td>1027</td>\n",
       "      <td>Hyundai i10 Magna</td>\n",
       "      <td>GOLD</td>\n",
       "      <td>Bangalore</td>\n",
       "      <td>229000</td>\n",
       "      <td>65000</td>\n",
       "      <td>Petrol</td>\n",
       "      <td>1st Owner</td>\n",
       "      <td>2014</td>\n",
       "      <td>Hyundai</td>\n",
       "    </tr>\n",
       "    <tr>\n",
       "      <th>1022</th>\n",
       "      <td>1028</td>\n",
       "      <td>Maruti Suzuki Alto</td>\n",
       "      <td>GOLD</td>\n",
       "      <td>Bangalore</td>\n",
       "      <td>275000</td>\n",
       "      <td>60000</td>\n",
       "      <td>Petrol</td>\n",
       "      <td>2nd Owner</td>\n",
       "      <td>2014</td>\n",
       "      <td>Maruti</td>\n",
       "    </tr>\n",
       "    <tr>\n",
       "      <th>1023</th>\n",
       "      <td>1029</td>\n",
       "      <td>Jeep Compass Limited</td>\n",
       "      <td>GOLD</td>\n",
       "      <td>Mahasamund</td>\n",
       "      <td>1750000</td>\n",
       "      <td>31000</td>\n",
       "      <td>Diesel</td>\n",
       "      <td>1st Owner</td>\n",
       "      <td>2017</td>\n",
       "      <td>Jeep</td>\n",
       "    </tr>\n",
       "    <tr>\n",
       "      <th>1024</th>\n",
       "      <td>1030</td>\n",
       "      <td>Jeep Compass Limited</td>\n",
       "      <td>GOLD</td>\n",
       "      <td>Bilaspur</td>\n",
       "      <td>1750000</td>\n",
       "      <td>31000</td>\n",
       "      <td>Diesel</td>\n",
       "      <td>1st Owner</td>\n",
       "      <td>2017</td>\n",
       "      <td>Jeep</td>\n",
       "    </tr>\n",
       "    <tr>\n",
       "      <th>1025</th>\n",
       "      <td>1031</td>\n",
       "      <td>Jeep Compass Limited</td>\n",
       "      <td>GOLD</td>\n",
       "      <td>Jagdalpur</td>\n",
       "      <td>1750000</td>\n",
       "      <td>31000</td>\n",
       "      <td>Diesel</td>\n",
       "      <td>1st Owner</td>\n",
       "      <td>2017</td>\n",
       "      <td>Jeep</td>\n",
       "    </tr>\n",
       "  </tbody>\n",
       "</table>\n",
       "<p>1024 rows × 10 columns</p>\n",
       "</div>"
      ],
      "text/plain": [
       "      Unnamed: 0                  Name     Label    Location    Price  \\\n",
       "0              0     Ford Figo Duratec  PLATINUM   Bangalore   380000   \n",
       "1              1   Maruti Suzuki Wagon  PLATINUM   Bangalore   465000   \n",
       "2              2     Hyundai Creta 1.6  PLATINUM   Bangalore  1350000   \n",
       "3              3       Hyundai Venue -  PLATINUM     Chennai  1019699   \n",
       "4              4          Honda Jazz -  PLATINUM        Pune   713499   \n",
       "...          ...                   ...       ...         ...      ...   \n",
       "1021        1027     Hyundai i10 Magna      GOLD   Bangalore   229000   \n",
       "1022        1028    Maruti Suzuki Alto      GOLD   Bangalore   275000   \n",
       "1023        1029  Jeep Compass Limited      GOLD  Mahasamund  1750000   \n",
       "1024        1030  Jeep Compass Limited      GOLD    Bilaspur  1750000   \n",
       "1025        1031  Jeep Compass Limited      GOLD   Jagdalpur  1750000   \n",
       "\n",
       "      Kms_driven Fuel_type       Owner  Year  Company  \n",
       "0          35056    Petrol   2nd Owner  2015     Ford  \n",
       "1          44000    Petrol   2nd Owner  2016   Maruti  \n",
       "2          42917    Petrol   2nd Owner  2018  Hyundai  \n",
       "3          16112    Petrol   2nd Owner  2019  Hyundai  \n",
       "4          30988    Petrol   2nd Owner  2017    Honda  \n",
       "...          ...       ...         ...   ...      ...  \n",
       "1021       65000    Petrol   1st Owner  2014  Hyundai  \n",
       "1022       60000    Petrol   2nd Owner  2014   Maruti  \n",
       "1023       31000    Diesel   1st Owner  2017     Jeep  \n",
       "1024       31000    Diesel   1st Owner  2017     Jeep  \n",
       "1025       31000    Diesel   1st Owner  2017     Jeep  \n",
       "\n",
       "[1024 rows x 10 columns]"
      ]
     },
     "execution_count": 162,
     "metadata": {},
     "output_type": "execute_result"
    }
   ],
   "source": [
    "car"
   ]
  },
  {
   "cell_type": "code",
   "execution_count": 158,
   "id": "ee473a1e",
   "metadata": {},
   "outputs": [
    {
     "data": {
      "text/html": [
       "<div>\n",
       "<style scoped>\n",
       "    .dataframe tbody tr th:only-of-type {\n",
       "        vertical-align: middle;\n",
       "    }\n",
       "\n",
       "    .dataframe tbody tr th {\n",
       "        vertical-align: top;\n",
       "    }\n",
       "\n",
       "    .dataframe thead th {\n",
       "        text-align: right;\n",
       "    }\n",
       "</style>\n",
       "<table border=\"1\" class=\"dataframe\">\n",
       "  <thead>\n",
       "    <tr style=\"text-align: right;\">\n",
       "      <th></th>\n",
       "      <th>Unnamed: 0</th>\n",
       "      <th>Name</th>\n",
       "      <th>Label</th>\n",
       "      <th>Location</th>\n",
       "      <th>Price</th>\n",
       "      <th>Kms_driven</th>\n",
       "      <th>Fuel_type</th>\n",
       "      <th>Owner</th>\n",
       "      <th>Year</th>\n",
       "      <th>Company</th>\n",
       "    </tr>\n",
       "  </thead>\n",
       "  <tbody>\n",
       "    <tr>\n",
       "      <th>0</th>\n",
       "      <td>0</td>\n",
       "      <td>Ford Figo Duratec</td>\n",
       "      <td>PLATINUM</td>\n",
       "      <td>Bangalore</td>\n",
       "      <td>380000</td>\n",
       "      <td>35056</td>\n",
       "      <td>Petrol</td>\n",
       "      <td>2nd Owner</td>\n",
       "      <td>2015</td>\n",
       "      <td>Ford</td>\n",
       "    </tr>\n",
       "    <tr>\n",
       "      <th>1</th>\n",
       "      <td>1</td>\n",
       "      <td>Maruti Suzuki Wagon</td>\n",
       "      <td>PLATINUM</td>\n",
       "      <td>Bangalore</td>\n",
       "      <td>465000</td>\n",
       "      <td>44000</td>\n",
       "      <td>Petrol</td>\n",
       "      <td>2nd Owner</td>\n",
       "      <td>2016</td>\n",
       "      <td>Maruti</td>\n",
       "    </tr>\n",
       "    <tr>\n",
       "      <th>2</th>\n",
       "      <td>2</td>\n",
       "      <td>Hyundai Creta 1.6</td>\n",
       "      <td>PLATINUM</td>\n",
       "      <td>Bangalore</td>\n",
       "      <td>1350000</td>\n",
       "      <td>42917</td>\n",
       "      <td>Petrol</td>\n",
       "      <td>2nd Owner</td>\n",
       "      <td>2018</td>\n",
       "      <td>Hyundai</td>\n",
       "    </tr>\n",
       "    <tr>\n",
       "      <th>3</th>\n",
       "      <td>3</td>\n",
       "      <td>Hyundai Venue -</td>\n",
       "      <td>PLATINUM</td>\n",
       "      <td>Chennai</td>\n",
       "      <td>1019699</td>\n",
       "      <td>16112</td>\n",
       "      <td>Petrol</td>\n",
       "      <td>2nd Owner</td>\n",
       "      <td>2019</td>\n",
       "      <td>Hyundai</td>\n",
       "    </tr>\n",
       "    <tr>\n",
       "      <th>4</th>\n",
       "      <td>4</td>\n",
       "      <td>Honda Jazz -</td>\n",
       "      <td>PLATINUM</td>\n",
       "      <td>Pune</td>\n",
       "      <td>713499</td>\n",
       "      <td>30988</td>\n",
       "      <td>Petrol</td>\n",
       "      <td>2nd Owner</td>\n",
       "      <td>2017</td>\n",
       "      <td>Honda</td>\n",
       "    </tr>\n",
       "    <tr>\n",
       "      <th>...</th>\n",
       "      <td>...</td>\n",
       "      <td>...</td>\n",
       "      <td>...</td>\n",
       "      <td>...</td>\n",
       "      <td>...</td>\n",
       "      <td>...</td>\n",
       "      <td>...</td>\n",
       "      <td>...</td>\n",
       "      <td>...</td>\n",
       "      <td>...</td>\n",
       "    </tr>\n",
       "    <tr>\n",
       "      <th>1019</th>\n",
       "      <td>1027</td>\n",
       "      <td>Hyundai i10 Magna</td>\n",
       "      <td>GOLD</td>\n",
       "      <td>Bangalore</td>\n",
       "      <td>229000</td>\n",
       "      <td>65000</td>\n",
       "      <td>Petrol</td>\n",
       "      <td>1st Owner</td>\n",
       "      <td>2014</td>\n",
       "      <td>Hyundai</td>\n",
       "    </tr>\n",
       "    <tr>\n",
       "      <th>1020</th>\n",
       "      <td>1028</td>\n",
       "      <td>Maruti Suzuki Alto</td>\n",
       "      <td>GOLD</td>\n",
       "      <td>Bangalore</td>\n",
       "      <td>275000</td>\n",
       "      <td>60000</td>\n",
       "      <td>Petrol</td>\n",
       "      <td>2nd Owner</td>\n",
       "      <td>2014</td>\n",
       "      <td>Maruti</td>\n",
       "    </tr>\n",
       "    <tr>\n",
       "      <th>1021</th>\n",
       "      <td>1029</td>\n",
       "      <td>Jeep Compass Limited</td>\n",
       "      <td>GOLD</td>\n",
       "      <td>Mahasamund</td>\n",
       "      <td>1750000</td>\n",
       "      <td>31000</td>\n",
       "      <td>Diesel</td>\n",
       "      <td>1st Owner</td>\n",
       "      <td>2017</td>\n",
       "      <td>Jeep</td>\n",
       "    </tr>\n",
       "    <tr>\n",
       "      <th>1022</th>\n",
       "      <td>1030</td>\n",
       "      <td>Jeep Compass Limited</td>\n",
       "      <td>GOLD</td>\n",
       "      <td>Bilaspur</td>\n",
       "      <td>1750000</td>\n",
       "      <td>31000</td>\n",
       "      <td>Diesel</td>\n",
       "      <td>1st Owner</td>\n",
       "      <td>2017</td>\n",
       "      <td>Jeep</td>\n",
       "    </tr>\n",
       "    <tr>\n",
       "      <th>1023</th>\n",
       "      <td>1031</td>\n",
       "      <td>Jeep Compass Limited</td>\n",
       "      <td>GOLD</td>\n",
       "      <td>Jagdalpur</td>\n",
       "      <td>1750000</td>\n",
       "      <td>31000</td>\n",
       "      <td>Diesel</td>\n",
       "      <td>1st Owner</td>\n",
       "      <td>2017</td>\n",
       "      <td>Jeep</td>\n",
       "    </tr>\n",
       "  </tbody>\n",
       "</table>\n",
       "<p>1024 rows × 10 columns</p>\n",
       "</div>"
      ],
      "text/plain": [
       "      Unnamed: 0                  Name     Label    Location    Price  \\\n",
       "0              0     Ford Figo Duratec  PLATINUM   Bangalore   380000   \n",
       "1              1   Maruti Suzuki Wagon  PLATINUM   Bangalore   465000   \n",
       "2              2     Hyundai Creta 1.6  PLATINUM   Bangalore  1350000   \n",
       "3              3       Hyundai Venue -  PLATINUM     Chennai  1019699   \n",
       "4              4          Honda Jazz -  PLATINUM        Pune   713499   \n",
       "...          ...                   ...       ...         ...      ...   \n",
       "1019        1027     Hyundai i10 Magna      GOLD   Bangalore   229000   \n",
       "1020        1028    Maruti Suzuki Alto      GOLD   Bangalore   275000   \n",
       "1021        1029  Jeep Compass Limited      GOLD  Mahasamund  1750000   \n",
       "1022        1030  Jeep Compass Limited      GOLD    Bilaspur  1750000   \n",
       "1023        1031  Jeep Compass Limited      GOLD   Jagdalpur  1750000   \n",
       "\n",
       "      Kms_driven Fuel_type       Owner  Year  Company  \n",
       "0          35056    Petrol   2nd Owner  2015     Ford  \n",
       "1          44000    Petrol   2nd Owner  2016   Maruti  \n",
       "2          42917    Petrol   2nd Owner  2018  Hyundai  \n",
       "3          16112    Petrol   2nd Owner  2019  Hyundai  \n",
       "4          30988    Petrol   2nd Owner  2017    Honda  \n",
       "...          ...       ...         ...   ...      ...  \n",
       "1019       65000    Petrol   1st Owner  2014  Hyundai  \n",
       "1020       60000    Petrol   2nd Owner  2014   Maruti  \n",
       "1021       31000    Diesel   1st Owner  2017     Jeep  \n",
       "1022       31000    Diesel   1st Owner  2017     Jeep  \n",
       "1023       31000    Diesel   1st Owner  2017     Jeep  \n",
       "\n",
       "[1024 rows x 10 columns]"
      ]
     },
     "execution_count": 158,
     "metadata": {},
     "output_type": "execute_result"
    }
   ],
   "source": [
    "car.reset_index(drop=True)"
   ]
  },
  {
   "cell_type": "code",
   "execution_count": 188,
   "id": "b158340a",
   "metadata": {},
   "outputs": [
    {
     "data": {
      "text/html": [
       "<div>\n",
       "<style scoped>\n",
       "    .dataframe tbody tr th:only-of-type {\n",
       "        vertical-align: middle;\n",
       "    }\n",
       "\n",
       "    .dataframe tbody tr th {\n",
       "        vertical-align: top;\n",
       "    }\n",
       "\n",
       "    .dataframe thead th {\n",
       "        text-align: right;\n",
       "    }\n",
       "</style>\n",
       "<table border=\"1\" class=\"dataframe\">\n",
       "  <thead>\n",
       "    <tr style=\"text-align: right;\">\n",
       "      <th></th>\n",
       "      <th>Unnamed: 0</th>\n",
       "      <th>Price</th>\n",
       "      <th>Kms_driven</th>\n",
       "      <th>Year</th>\n",
       "    </tr>\n",
       "  </thead>\n",
       "  <tbody>\n",
       "    <tr>\n",
       "      <th>count</th>\n",
       "      <td>1024.000000</td>\n",
       "      <td>1.024000e+03</td>\n",
       "      <td>1024.000000</td>\n",
       "      <td>1024.000000</td>\n",
       "    </tr>\n",
       "    <tr>\n",
       "      <th>mean</th>\n",
       "      <td>515.400391</td>\n",
       "      <td>6.859439e+05</td>\n",
       "      <td>50239.334961</td>\n",
       "      <td>2015.818359</td>\n",
       "    </tr>\n",
       "    <tr>\n",
       "      <th>std</th>\n",
       "      <td>298.377486</td>\n",
       "      <td>5.375162e+05</td>\n",
       "      <td>38137.141129</td>\n",
       "      <td>3.389105</td>\n",
       "    </tr>\n",
       "    <tr>\n",
       "      <th>min</th>\n",
       "      <td>0.000000</td>\n",
       "      <td>3.900000e+04</td>\n",
       "      <td>0.000000</td>\n",
       "      <td>2000.000000</td>\n",
       "    </tr>\n",
       "    <tr>\n",
       "      <th>25%</th>\n",
       "      <td>255.750000</td>\n",
       "      <td>4.110990e+05</td>\n",
       "      <td>26207.000000</td>\n",
       "      <td>2014.000000</td>\n",
       "    </tr>\n",
       "    <tr>\n",
       "      <th>50%</th>\n",
       "      <td>515.500000</td>\n",
       "      <td>5.576990e+05</td>\n",
       "      <td>44000.000000</td>\n",
       "      <td>2016.000000</td>\n",
       "    </tr>\n",
       "    <tr>\n",
       "      <th>75%</th>\n",
       "      <td>773.250000</td>\n",
       "      <td>7.877990e+05</td>\n",
       "      <td>67499.000000</td>\n",
       "      <td>2018.000000</td>\n",
       "    </tr>\n",
       "    <tr>\n",
       "      <th>max</th>\n",
       "      <td>1031.000000</td>\n",
       "      <td>7.500000e+06</td>\n",
       "      <td>690000.000000</td>\n",
       "      <td>2022.000000</td>\n",
       "    </tr>\n",
       "  </tbody>\n",
       "</table>\n",
       "</div>"
      ],
      "text/plain": [
       "        Unnamed: 0         Price     Kms_driven         Year\n",
       "count  1024.000000  1.024000e+03    1024.000000  1024.000000\n",
       "mean    515.400391  6.859439e+05   50239.334961  2015.818359\n",
       "std     298.377486  5.375162e+05   38137.141129     3.389105\n",
       "min       0.000000  3.900000e+04       0.000000  2000.000000\n",
       "25%     255.750000  4.110990e+05   26207.000000  2014.000000\n",
       "50%     515.500000  5.576990e+05   44000.000000  2016.000000\n",
       "75%     773.250000  7.877990e+05   67499.000000  2018.000000\n",
       "max    1031.000000  7.500000e+06  690000.000000  2022.000000"
      ]
     },
     "execution_count": 188,
     "metadata": {},
     "output_type": "execute_result"
    }
   ],
   "source": [
    "car.describe()"
   ]
  },
  {
   "cell_type": "code",
   "execution_count": 189,
   "id": "43e0d081",
   "metadata": {},
   "outputs": [],
   "source": [
    "car.to_csv('Cleaned car.csv')"
   ]
  },
  {
   "cell_type": "code",
   "execution_count": 213,
   "id": "872484a6",
   "metadata": {},
   "outputs": [],
   "source": [
    "y=car['Price']\n",
    "x=car.drop(columns=['Price','Unnamed: 0'])"
   ]
  },
  {
   "cell_type": "code",
   "execution_count": 214,
   "id": "7e8114cd",
   "metadata": {},
   "outputs": [
    {
     "data": {
      "text/plain": [
       "0        380000\n",
       "1        465000\n",
       "2       1350000\n",
       "3       1019699\n",
       "4        713499\n",
       "         ...   \n",
       "1021     229000\n",
       "1022     275000\n",
       "1023    1750000\n",
       "1024    1750000\n",
       "1025    1750000\n",
       "Name: Price, Length: 1024, dtype: int32"
      ]
     },
     "execution_count": 214,
     "metadata": {},
     "output_type": "execute_result"
    }
   ],
   "source": [
    "y"
   ]
  },
  {
   "cell_type": "code",
   "execution_count": 215,
   "id": "6dc79969",
   "metadata": {},
   "outputs": [],
   "source": [
    "from sklearn.model_selection import train_test_split\n",
    "x_train,x_test,y_train,y_test=train_test_split(x,y,test_size=0.2)"
   ]
  },
  {
   "cell_type": "code",
   "execution_count": 216,
   "id": "52844782",
   "metadata": {},
   "outputs": [],
   "source": [
    "from sklearn.linear_model import LinearRegression\n",
    "from sklearn.metrics import r2_score\n",
    "from sklearn.preprocessing import OneHotEncoder\n",
    "from sklearn.compose import make_column_transformer\n",
    "from sklearn.pipeline import make_pipeline"
   ]
  },
  {
   "cell_type": "code",
   "execution_count": 244,
   "id": "48c1ce4f",
   "metadata": {},
   "outputs": [
    {
     "data": {
      "text/plain": [
       "OneHotEncoder(handle_unknown='ignore')"
      ]
     },
     "execution_count": 244,
     "metadata": {},
     "output_type": "execute_result"
    }
   ],
   "source": [
    "ohe=OneHotEncoder(handle_unknown = 'ignore')\n",
    "ohe.fit(x[['Name','Label','Location','Fuel_type','Owner','Company']])"
   ]
  },
  {
   "cell_type": "code",
   "execution_count": 245,
   "id": "43591821",
   "metadata": {},
   "outputs": [],
   "source": [
    "column_trans=make_column_transformer((OneHotEncoder(categories=ohe.categories_,handle_unknown = 'ignore'),['Name','Label','Location','Fuel_type','Owner','Company']),remainder='passthrough')"
   ]
  },
  {
   "cell_type": "code",
   "execution_count": 246,
   "id": "254dc93f",
   "metadata": {},
   "outputs": [],
   "source": [
    "lr=LinearRegression()"
   ]
  },
  {
   "cell_type": "code",
   "execution_count": 2,
   "id": "2930ee56",
   "metadata": {},
   "outputs": [
    {
     "ename": "NameError",
     "evalue": "name 'make_pipeline' is not defined",
     "output_type": "error",
     "traceback": [
      "\u001b[1;31m---------------------------------------------------------------------------\u001b[0m",
      "\u001b[1;31mNameError\u001b[0m                                 Traceback (most recent call last)",
      "\u001b[1;32m~\\AppData\\Local\\Temp\\ipykernel_16292\\3301936959.py\u001b[0m in \u001b[0;36m<module>\u001b[1;34m\u001b[0m\n\u001b[1;32m----> 1\u001b[1;33m \u001b[0mpipe\u001b[0m\u001b[1;33m=\u001b[0m\u001b[0mmake_pipeline\u001b[0m\u001b[1;33m(\u001b[0m\u001b[0mcolumn_trans\u001b[0m\u001b[1;33m,\u001b[0m\u001b[0mlr\u001b[0m\u001b[1;33m)\u001b[0m\u001b[1;33m\u001b[0m\u001b[1;33m\u001b[0m\u001b[0m\n\u001b[0m",
      "\u001b[1;31mNameError\u001b[0m: name 'make_pipeline' is not defined"
     ]
    }
   ],
   "source": [
    "pipe=make_pipeline(column_trans,lr)"
   ]
  },
  {
   "cell_type": "code",
   "execution_count": 248,
   "id": "e7b8efa0",
   "metadata": {},
   "outputs": [
    {
     "data": {
      "text/plain": [
       "Pipeline(steps=[('columntransformer',\n",
       "                 ColumnTransformer(remainder='passthrough',\n",
       "                                   transformers=[('onehotencoder',\n",
       "                                                  OneHotEncoder(categories=[array(['Audi Q3 -', 'Audi Q5 2.0', 'Audi Q7 3.0', 'Audi Q7 35',\n",
       "       'BMW 3 Series', 'BMW 5 Series', 'BMW X5 xDrive30d',\n",
       "       'Chevrolet Aveo -', 'Chevrolet Beat -', 'Chevrolet Beat LS',\n",
       "       'Chevrolet Beat LT', 'Chevrolet Cruze LTZ', 'Chevrolet Optra -',\n",
       "       'Chevrolet S...\n",
       "                                                                            array(['Audi', 'BMW', 'Chevrolet', 'Datsun', 'Fiat', 'Ford', 'Honda',\n",
       "       'Hyundai', 'Jaguar', 'Jeep', 'Kia', 'Land', 'MG', 'Mahindra',\n",
       "       'Maruti', 'Mercedes', 'Nissan', 'Porsche', 'Renault', 'Skoda',\n",
       "       'Ssangyong', 'Tata', 'Toyota', 'Volkswagen', 'Volvo'], dtype=object)],\n",
       "                                                                handle_unknown='ignore'),\n",
       "                                                  ['Name', 'Label', 'Location',\n",
       "                                                   'Fuel_type', 'Owner',\n",
       "                                                   'Company'])])),\n",
       "                ('linearregression', LinearRegression())])"
      ]
     },
     "execution_count": 248,
     "metadata": {},
     "output_type": "execute_result"
    }
   ],
   "source": [
    "pipe.fit(x_train,y_train)"
   ]
  },
  {
   "cell_type": "code",
   "execution_count": 249,
   "id": "df6e2c80",
   "metadata": {},
   "outputs": [],
   "source": [
    "y_pred=pipe.predict(x_test)"
   ]
  },
  {
   "cell_type": "code",
   "execution_count": 250,
   "id": "2ddde2f6",
   "metadata": {},
   "outputs": [
    {
     "data": {
      "text/plain": [
       "0.8049616542434096"
      ]
     },
     "execution_count": 250,
     "metadata": {},
     "output_type": "execute_result"
    }
   ],
   "source": [
    "r2_score(y_test,y_pred)"
   ]
  },
  {
   "cell_type": "code",
   "execution_count": 251,
   "id": "963faedb",
   "metadata": {},
   "outputs": [],
   "source": [
    "scores=[]\n",
    "for i in range(1000):\n",
    "    x_train,x_test,y_train,y_test=train_test_split(x,y,test_size=0.2,random_state=i)\n",
    "    lr=LinearRegression()\n",
    "    pipe=make_pipeline(column_trans,lr)\n",
    "    pipe.fit(x_train,y_train)\n",
    "    y_pred=pipe.predict(x_test)\n",
    "    scores.append(r2_score(y_test,y_pred))"
   ]
  },
  {
   "cell_type": "code",
   "execution_count": 252,
   "id": "89b7d200",
   "metadata": {},
   "outputs": [
    {
     "data": {
      "text/plain": [
       "178"
      ]
     },
     "execution_count": 252,
     "metadata": {},
     "output_type": "execute_result"
    }
   ],
   "source": [
    "np.argmax(scores)"
   ]
  },
  {
   "cell_type": "code",
   "execution_count": 253,
   "id": "577988e0",
   "metadata": {},
   "outputs": [
    {
     "data": {
      "text/plain": [
       "0.8049616542434096"
      ]
     },
     "execution_count": 253,
     "metadata": {},
     "output_type": "execute_result"
    }
   ],
   "source": [
    "scores[np.argmax(scores)]"
   ]
  },
  {
   "cell_type": "code",
   "execution_count": 254,
   "id": "3dad7119",
   "metadata": {},
   "outputs": [
    {
     "data": {
      "text/plain": [
       "0.8049616542434096"
      ]
     },
     "execution_count": 254,
     "metadata": {},
     "output_type": "execute_result"
    }
   ],
   "source": [
    "x_train,x_test,y_train,y_test=train_test_split(x,y,test_size=0.2,random_state=np.argmax(scores))\n",
    "lr=LinearRegression()\n",
    "pipe=make_pipeline(column_trans,lr)\n",
    "pipe.fit(x_train,y_train)\n",
    "y_pred=pipe.predict(x_test)\n",
    "r2_score(y_test,y_pred)"
   ]
  },
  {
   "cell_type": "code",
   "execution_count": 255,
   "id": "04ae4566",
   "metadata": {},
   "outputs": [],
   "source": [
    "import pickle"
   ]
  },
  {
   "cell_type": "code",
   "execution_count": 256,
   "id": "428cc9c6",
   "metadata": {},
   "outputs": [],
   "source": [
    "pickle.dump(pipe,open('LinearRegressionModel.pkl','wb'))"
   ]
  },
  {
   "cell_type": "code",
   "execution_count": 1,
   "id": "bfbf88d6",
   "metadata": {},
   "outputs": [
    {
     "ename": "NameError",
     "evalue": "name 'pipe' is not defined",
     "output_type": "error",
     "traceback": [
      "\u001b[1;31m---------------------------------------------------------------------------\u001b[0m",
      "\u001b[1;31mNameError\u001b[0m                                 Traceback (most recent call last)",
      "\u001b[1;32m~\\AppData\\Local\\Temp\\ipykernel_16292\\2154153412.py\u001b[0m in \u001b[0;36m<module>\u001b[1;34m\u001b[0m\n\u001b[1;32m----> 1\u001b[1;33m \u001b[0mpipe\u001b[0m\u001b[1;33m.\u001b[0m\u001b[0mpredict\u001b[0m\u001b[1;33m(\u001b[0m\u001b[0mpd\u001b[0m\u001b[1;33m.\u001b[0m\u001b[0mDataFrame\u001b[0m\u001b[1;33m(\u001b[0m\u001b[1;33m[\u001b[0m\u001b[1;33m[\u001b[0m\u001b[1;34m'Ford Figo Duratec'\u001b[0m\u001b[1;33m,\u001b[0m\u001b[1;34m'GOLD'\u001b[0m\u001b[1;33m,\u001b[0m\u001b[1;34m'Bangalore'\u001b[0m\u001b[1;33m,\u001b[0m\u001b[1;36m60\u001b[0m\u001b[1;33m,\u001b[0m\u001b[1;34m'Petrol'\u001b[0m\u001b[1;33m,\u001b[0m\u001b[1;34m'1st Owner'\u001b[0m\u001b[1;33m,\u001b[0m\u001b[1;36m2018\u001b[0m\u001b[1;33m,\u001b[0m\u001b[1;34m'Maruti'\u001b[0m\u001b[1;33m]\u001b[0m\u001b[1;33m]\u001b[0m\u001b[1;33m,\u001b[0m\u001b[0mcolumns\u001b[0m\u001b[1;33m=\u001b[0m\u001b[1;33m[\u001b[0m\u001b[1;34m'Name'\u001b[0m\u001b[1;33m,\u001b[0m\u001b[1;34m'Label'\u001b[0m\u001b[1;33m,\u001b[0m\u001b[1;34m'Location'\u001b[0m\u001b[1;33m,\u001b[0m\u001b[1;34m'Kms_driven'\u001b[0m\u001b[1;33m,\u001b[0m\u001b[1;34m'Fuel_type'\u001b[0m\u001b[1;33m,\u001b[0m\u001b[1;34m'Owner'\u001b[0m\u001b[1;33m,\u001b[0m\u001b[1;34m'Year'\u001b[0m\u001b[1;33m,\u001b[0m\u001b[1;34m'Company'\u001b[0m\u001b[1;33m]\u001b[0m\u001b[1;33m)\u001b[0m\u001b[1;33m)\u001b[0m\u001b[1;33m\u001b[0m\u001b[1;33m\u001b[0m\u001b[0m\n\u001b[0m",
      "\u001b[1;31mNameError\u001b[0m: name 'pipe' is not defined"
     ]
    }
   ],
   "source": [
    "pipe.predict(pd.DataFrame([['Ford Figo Duratec','GOLD','Bangalore',60,'Petrol','1st Owner',2018,'Maruti']],columns=['Name','Label','Location','Kms_driven','Fuel_type','Owner','Year','Company']))"
   ]
  },
  {
   "cell_type": "code",
   "execution_count": 231,
   "id": "69f13232",
   "metadata": {},
   "outputs": [
    {
     "data": {
      "text/html": [
       "<div>\n",
       "<style scoped>\n",
       "    .dataframe tbody tr th:only-of-type {\n",
       "        vertical-align: middle;\n",
       "    }\n",
       "\n",
       "    .dataframe tbody tr th {\n",
       "        vertical-align: top;\n",
       "    }\n",
       "\n",
       "    .dataframe thead th {\n",
       "        text-align: right;\n",
       "    }\n",
       "</style>\n",
       "<table border=\"1\" class=\"dataframe\">\n",
       "  <thead>\n",
       "    <tr style=\"text-align: right;\">\n",
       "      <th></th>\n",
       "      <th>Name</th>\n",
       "      <th>Label</th>\n",
       "      <th>Location</th>\n",
       "      <th>Kms_driven</th>\n",
       "      <th>Fuel_type</th>\n",
       "      <th>Owner</th>\n",
       "      <th>Year</th>\n",
       "      <th>Company</th>\n",
       "    </tr>\n",
       "  </thead>\n",
       "  <tbody>\n",
       "    <tr>\n",
       "      <th>0</th>\n",
       "      <td>Ford Figo Duratec</td>\n",
       "      <td>PLATINUM</td>\n",
       "      <td>Bangalore</td>\n",
       "      <td>35056</td>\n",
       "      <td>Petrol</td>\n",
       "      <td>2nd Owner</td>\n",
       "      <td>2015</td>\n",
       "      <td>Ford</td>\n",
       "    </tr>\n",
       "    <tr>\n",
       "      <th>1</th>\n",
       "      <td>Maruti Suzuki Wagon</td>\n",
       "      <td>PLATINUM</td>\n",
       "      <td>Bangalore</td>\n",
       "      <td>44000</td>\n",
       "      <td>Petrol</td>\n",
       "      <td>2nd Owner</td>\n",
       "      <td>2016</td>\n",
       "      <td>Maruti</td>\n",
       "    </tr>\n",
       "    <tr>\n",
       "      <th>2</th>\n",
       "      <td>Hyundai Creta 1.6</td>\n",
       "      <td>PLATINUM</td>\n",
       "      <td>Bangalore</td>\n",
       "      <td>42917</td>\n",
       "      <td>Petrol</td>\n",
       "      <td>2nd Owner</td>\n",
       "      <td>2018</td>\n",
       "      <td>Hyundai</td>\n",
       "    </tr>\n",
       "    <tr>\n",
       "      <th>3</th>\n",
       "      <td>Hyundai Venue -</td>\n",
       "      <td>PLATINUM</td>\n",
       "      <td>Chennai</td>\n",
       "      <td>16112</td>\n",
       "      <td>Petrol</td>\n",
       "      <td>2nd Owner</td>\n",
       "      <td>2019</td>\n",
       "      <td>Hyundai</td>\n",
       "    </tr>\n",
       "    <tr>\n",
       "      <th>4</th>\n",
       "      <td>Honda Jazz -</td>\n",
       "      <td>PLATINUM</td>\n",
       "      <td>Pune</td>\n",
       "      <td>30988</td>\n",
       "      <td>Petrol</td>\n",
       "      <td>2nd Owner</td>\n",
       "      <td>2017</td>\n",
       "      <td>Honda</td>\n",
       "    </tr>\n",
       "    <tr>\n",
       "      <th>...</th>\n",
       "      <td>...</td>\n",
       "      <td>...</td>\n",
       "      <td>...</td>\n",
       "      <td>...</td>\n",
       "      <td>...</td>\n",
       "      <td>...</td>\n",
       "      <td>...</td>\n",
       "      <td>...</td>\n",
       "    </tr>\n",
       "    <tr>\n",
       "      <th>1021</th>\n",
       "      <td>Hyundai i10 Magna</td>\n",
       "      <td>GOLD</td>\n",
       "      <td>Bangalore</td>\n",
       "      <td>65000</td>\n",
       "      <td>Petrol</td>\n",
       "      <td>1st Owner</td>\n",
       "      <td>2014</td>\n",
       "      <td>Hyundai</td>\n",
       "    </tr>\n",
       "    <tr>\n",
       "      <th>1022</th>\n",
       "      <td>Maruti Suzuki Alto</td>\n",
       "      <td>GOLD</td>\n",
       "      <td>Bangalore</td>\n",
       "      <td>60000</td>\n",
       "      <td>Petrol</td>\n",
       "      <td>2nd Owner</td>\n",
       "      <td>2014</td>\n",
       "      <td>Maruti</td>\n",
       "    </tr>\n",
       "    <tr>\n",
       "      <th>1023</th>\n",
       "      <td>Jeep Compass Limited</td>\n",
       "      <td>GOLD</td>\n",
       "      <td>Mahasamund</td>\n",
       "      <td>31000</td>\n",
       "      <td>Diesel</td>\n",
       "      <td>1st Owner</td>\n",
       "      <td>2017</td>\n",
       "      <td>Jeep</td>\n",
       "    </tr>\n",
       "    <tr>\n",
       "      <th>1024</th>\n",
       "      <td>Jeep Compass Limited</td>\n",
       "      <td>GOLD</td>\n",
       "      <td>Bilaspur</td>\n",
       "      <td>31000</td>\n",
       "      <td>Diesel</td>\n",
       "      <td>1st Owner</td>\n",
       "      <td>2017</td>\n",
       "      <td>Jeep</td>\n",
       "    </tr>\n",
       "    <tr>\n",
       "      <th>1025</th>\n",
       "      <td>Jeep Compass Limited</td>\n",
       "      <td>GOLD</td>\n",
       "      <td>Jagdalpur</td>\n",
       "      <td>31000</td>\n",
       "      <td>Diesel</td>\n",
       "      <td>1st Owner</td>\n",
       "      <td>2017</td>\n",
       "      <td>Jeep</td>\n",
       "    </tr>\n",
       "  </tbody>\n",
       "</table>\n",
       "<p>1024 rows × 8 columns</p>\n",
       "</div>"
      ],
      "text/plain": [
       "                      Name     Label    Location  Kms_driven Fuel_type  \\\n",
       "0        Ford Figo Duratec  PLATINUM   Bangalore       35056    Petrol   \n",
       "1      Maruti Suzuki Wagon  PLATINUM   Bangalore       44000    Petrol   \n",
       "2        Hyundai Creta 1.6  PLATINUM   Bangalore       42917    Petrol   \n",
       "3          Hyundai Venue -  PLATINUM     Chennai       16112    Petrol   \n",
       "4             Honda Jazz -  PLATINUM        Pune       30988    Petrol   \n",
       "...                    ...       ...         ...         ...       ...   \n",
       "1021     Hyundai i10 Magna      GOLD   Bangalore       65000    Petrol   \n",
       "1022    Maruti Suzuki Alto      GOLD   Bangalore       60000    Petrol   \n",
       "1023  Jeep Compass Limited      GOLD  Mahasamund       31000    Diesel   \n",
       "1024  Jeep Compass Limited      GOLD    Bilaspur       31000    Diesel   \n",
       "1025  Jeep Compass Limited      GOLD   Jagdalpur       31000    Diesel   \n",
       "\n",
       "           Owner  Year  Company  \n",
       "0      2nd Owner  2015     Ford  \n",
       "1      2nd Owner  2016   Maruti  \n",
       "2      2nd Owner  2018  Hyundai  \n",
       "3      2nd Owner  2019  Hyundai  \n",
       "4      2nd Owner  2017    Honda  \n",
       "...          ...   ...      ...  \n",
       "1021   1st Owner  2014  Hyundai  \n",
       "1022   2nd Owner  2014   Maruti  \n",
       "1023   1st Owner  2017     Jeep  \n",
       "1024   1st Owner  2017     Jeep  \n",
       "1025   1st Owner  2017     Jeep  \n",
       "\n",
       "[1024 rows x 8 columns]"
      ]
     },
     "execution_count": 231,
     "metadata": {},
     "output_type": "execute_result"
    }
   ],
   "source": [
    "x"
   ]
  },
  {
   "cell_type": "code",
   "execution_count": 235,
   "id": "3958bcba",
   "metadata": {},
   "outputs": [
    {
     "data": {
      "text/plain": [
       "pandas.core.series.Series"
      ]
     },
     "execution_count": 235,
     "metadata": {},
     "output_type": "execute_result"
    }
   ],
   "source": [
    "type(x['Owner'])"
   ]
  },
  {
   "cell_type": "code",
   "execution_count": 234,
   "id": "df36e6aa",
   "metadata": {},
   "outputs": [
    {
     "data": {
      "text/plain": [
       "(1024, 8)"
      ]
     },
     "execution_count": 234,
     "metadata": {},
     "output_type": "execute_result"
    }
   ],
   "source": [
    "x.shape"
   ]
  },
  {
   "cell_type": "code",
   "execution_count": 258,
   "id": "790916c3",
   "metadata": {},
   "outputs": [
    {
     "name": "stdout",
     "output_type": "stream",
     "text": [
      "<class 'pandas.core.frame.DataFrame'>\n",
      "Int64Index: 1024 entries, 0 to 1025\n",
      "Data columns (total 8 columns):\n",
      " #   Column      Non-Null Count  Dtype \n",
      "---  ------      --------------  ----- \n",
      " 0   Name        1024 non-null   object\n",
      " 1   Label       1024 non-null   object\n",
      " 2   Location    1024 non-null   object\n",
      " 3   Kms_driven  1024 non-null   int32 \n",
      " 4   Fuel_type   1024 non-null   object\n",
      " 5   Owner       1024 non-null   object\n",
      " 6   Year        1024 non-null   int32 \n",
      " 7   Company     1024 non-null   object\n",
      "dtypes: int32(2), object(6)\n",
      "memory usage: 64.0+ KB\n"
     ]
    }
   ],
   "source": [
    "x.info()"
   ]
  },
  {
   "cell_type": "code",
   "execution_count": null,
   "id": "a2bb8f12",
   "metadata": {},
   "outputs": [],
   "source": []
  }
 ],
 "metadata": {
  "kernelspec": {
   "display_name": "Python 3 (ipykernel)",
   "language": "python",
   "name": "python3"
  },
  "language_info": {
   "codemirror_mode": {
    "name": "ipython",
    "version": 3
   },
   "file_extension": ".py",
   "mimetype": "text/x-python",
   "name": "python",
   "nbconvert_exporter": "python",
   "pygments_lexer": "ipython3",
   "version": "3.9.13"
  }
 },
 "nbformat": 4,
 "nbformat_minor": 5
}
